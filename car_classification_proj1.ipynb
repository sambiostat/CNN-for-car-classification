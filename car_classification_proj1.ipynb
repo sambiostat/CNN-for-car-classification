{
  "nbformat": 4,
  "nbformat_minor": 0,
  "metadata": {
    "kernelspec": {
      "name": "python3",
      "display_name": "Python 3"
    },
    "language_info": {
      "codemirror_mode": {
        "name": "ipython",
        "version": 3
      },
      "file_extension": ".py",
      "mimetype": "text/x-python",
      "name": "python",
      "nbconvert_exporter": "python",
      "pygments_lexer": "ipython3",
      "version": "3.7.2"
    },
    "colab": {
      "name": "car_classification_proj1.ipynb",
      "provenance": [],
      "collapsed_sections": [],
      "include_colab_link": true
    },
    "widgets": {
      "application/vnd.jupyter.widget-state+json": {
        "497cbcc6cb704234930dbdb50db45104": {
          "model_module": "@jupyter-widgets/controls",
          "model_name": "HBoxModel",
          "state": {
            "_view_name": "HBoxView",
            "_dom_classes": [],
            "_model_name": "HBoxModel",
            "_view_module": "@jupyter-widgets/controls",
            "_model_module_version": "1.5.0",
            "_view_count": null,
            "_view_module_version": "1.5.0",
            "box_style": "",
            "layout": "IPY_MODEL_a6934572c16649df84e4d0bc0809b677",
            "_model_module": "@jupyter-widgets/controls",
            "children": [
              "IPY_MODEL_7eae348bfbd741288f999e6194f2b76f",
              "IPY_MODEL_906fd1675f1a434b97de6e3d58f9c71c"
            ]
          }
        },
        "a6934572c16649df84e4d0bc0809b677": {
          "model_module": "@jupyter-widgets/base",
          "model_name": "LayoutModel",
          "state": {
            "_view_name": "LayoutView",
            "grid_template_rows": null,
            "right": null,
            "justify_content": null,
            "_view_module": "@jupyter-widgets/base",
            "overflow": null,
            "_model_module_version": "1.2.0",
            "_view_count": null,
            "flex_flow": null,
            "width": null,
            "min_width": null,
            "border": null,
            "align_items": null,
            "bottom": null,
            "_model_module": "@jupyter-widgets/base",
            "top": null,
            "grid_column": null,
            "overflow_y": null,
            "overflow_x": null,
            "grid_auto_flow": null,
            "grid_area": null,
            "grid_template_columns": null,
            "flex": null,
            "_model_name": "LayoutModel",
            "justify_items": null,
            "grid_row": null,
            "max_height": null,
            "align_content": null,
            "visibility": null,
            "align_self": null,
            "height": null,
            "min_height": null,
            "padding": null,
            "grid_auto_rows": null,
            "grid_gap": null,
            "max_width": null,
            "order": null,
            "_view_module_version": "1.2.0",
            "grid_template_areas": null,
            "object_position": null,
            "object_fit": null,
            "grid_auto_columns": null,
            "margin": null,
            "display": null,
            "left": null
          }
        },
        "7eae348bfbd741288f999e6194f2b76f": {
          "model_module": "@jupyter-widgets/controls",
          "model_name": "FloatProgressModel",
          "state": {
            "_view_name": "ProgressView",
            "style": "IPY_MODEL_6938e0a68f8d4316b7e0a3ee05173f05",
            "_dom_classes": [],
            "description": "100%",
            "_model_name": "FloatProgressModel",
            "bar_style": "success",
            "max": 244418560,
            "_view_module": "@jupyter-widgets/controls",
            "_model_module_version": "1.5.0",
            "value": 244418560,
            "_view_count": null,
            "_view_module_version": "1.5.0",
            "orientation": "horizontal",
            "min": 0,
            "description_tooltip": null,
            "_model_module": "@jupyter-widgets/controls",
            "layout": "IPY_MODEL_952c0612c5e445a5a598a3592353bec7"
          }
        },
        "906fd1675f1a434b97de6e3d58f9c71c": {
          "model_module": "@jupyter-widgets/controls",
          "model_name": "HTMLModel",
          "state": {
            "_view_name": "HTMLView",
            "style": "IPY_MODEL_5923a91036d84d28bacceb6f43616ce1",
            "_dom_classes": [],
            "description": "",
            "_model_name": "HTMLModel",
            "placeholder": "​",
            "_view_module": "@jupyter-widgets/controls",
            "_model_module_version": "1.5.0",
            "value": " 233M/233M [2:52:44&lt;00:00, 23.6kB/s]",
            "_view_count": null,
            "_view_module_version": "1.5.0",
            "description_tooltip": null,
            "_model_module": "@jupyter-widgets/controls",
            "layout": "IPY_MODEL_4e042282897a4f1fa978a9adf5015263"
          }
        },
        "6938e0a68f8d4316b7e0a3ee05173f05": {
          "model_module": "@jupyter-widgets/controls",
          "model_name": "ProgressStyleModel",
          "state": {
            "_view_name": "StyleView",
            "_model_name": "ProgressStyleModel",
            "description_width": "initial",
            "_view_module": "@jupyter-widgets/base",
            "_model_module_version": "1.5.0",
            "_view_count": null,
            "_view_module_version": "1.2.0",
            "bar_color": null,
            "_model_module": "@jupyter-widgets/controls"
          }
        },
        "952c0612c5e445a5a598a3592353bec7": {
          "model_module": "@jupyter-widgets/base",
          "model_name": "LayoutModel",
          "state": {
            "_view_name": "LayoutView",
            "grid_template_rows": null,
            "right": null,
            "justify_content": null,
            "_view_module": "@jupyter-widgets/base",
            "overflow": null,
            "_model_module_version": "1.2.0",
            "_view_count": null,
            "flex_flow": null,
            "width": null,
            "min_width": null,
            "border": null,
            "align_items": null,
            "bottom": null,
            "_model_module": "@jupyter-widgets/base",
            "top": null,
            "grid_column": null,
            "overflow_y": null,
            "overflow_x": null,
            "grid_auto_flow": null,
            "grid_area": null,
            "grid_template_columns": null,
            "flex": null,
            "_model_name": "LayoutModel",
            "justify_items": null,
            "grid_row": null,
            "max_height": null,
            "align_content": null,
            "visibility": null,
            "align_self": null,
            "height": null,
            "min_height": null,
            "padding": null,
            "grid_auto_rows": null,
            "grid_gap": null,
            "max_width": null,
            "order": null,
            "_view_module_version": "1.2.0",
            "grid_template_areas": null,
            "object_position": null,
            "object_fit": null,
            "grid_auto_columns": null,
            "margin": null,
            "display": null,
            "left": null
          }
        },
        "5923a91036d84d28bacceb6f43616ce1": {
          "model_module": "@jupyter-widgets/controls",
          "model_name": "DescriptionStyleModel",
          "state": {
            "_view_name": "StyleView",
            "_model_name": "DescriptionStyleModel",
            "description_width": "",
            "_view_module": "@jupyter-widgets/base",
            "_model_module_version": "1.5.0",
            "_view_count": null,
            "_view_module_version": "1.2.0",
            "_model_module": "@jupyter-widgets/controls"
          }
        },
        "4e042282897a4f1fa978a9adf5015263": {
          "model_module": "@jupyter-widgets/base",
          "model_name": "LayoutModel",
          "state": {
            "_view_name": "LayoutView",
            "grid_template_rows": null,
            "right": null,
            "justify_content": null,
            "_view_module": "@jupyter-widgets/base",
            "overflow": null,
            "_model_module_version": "1.2.0",
            "_view_count": null,
            "flex_flow": null,
            "width": null,
            "min_width": null,
            "border": null,
            "align_items": null,
            "bottom": null,
            "_model_module": "@jupyter-widgets/base",
            "top": null,
            "grid_column": null,
            "overflow_y": null,
            "overflow_x": null,
            "grid_auto_flow": null,
            "grid_area": null,
            "grid_template_columns": null,
            "flex": null,
            "_model_name": "LayoutModel",
            "justify_items": null,
            "grid_row": null,
            "max_height": null,
            "align_content": null,
            "visibility": null,
            "align_self": null,
            "height": null,
            "min_height": null,
            "padding": null,
            "grid_auto_rows": null,
            "grid_gap": null,
            "max_width": null,
            "order": null,
            "_view_module_version": "1.2.0",
            "grid_template_areas": null,
            "object_position": null,
            "object_fit": null,
            "grid_auto_columns": null,
            "margin": null,
            "display": null,
            "left": null
          }
        }
      }
    },
    "accelerator": "GPU"
  },
  "cells": [
    {
      "cell_type": "markdown",
      "metadata": {
        "id": "view-in-github",
        "colab_type": "text"
      },
      "source": [
        "<a href=\"https://colab.research.google.com/github/sambiostat/CNN-for-car-classification/blob/master/car_classification_proj1.ipynb\" target=\"_parent\"><img src=\"https://colab.research.google.com/assets/colab-badge.svg\" alt=\"Open In Colab\"/></a>"
      ]
    },
    {
      "cell_type": "markdown",
      "metadata": {
        "id": "0kahqOOp9rjx",
        "colab_type": "text"
      },
      "source": [
        "# 1.introduction\n",
        "\n",
        "This project is about car classification for [stanford car dataset](https://ai.stanford.edu/~jkrause/cars/car_dataset.html). The Cars dataset contains 16,185 images of 196 classes of cars. The data is split into 8,144 training images and 8,041 testing images, where each class has been split roughly in a 50-50 split. Classes are typically at the level of Make, Model, Year, e.g. 2012 Tesla Model S or 2012 BMW M3 coupe.\n",
        "\n",
        "It is difficult to directly train deep learning model on this dataset because the limited number of images. Thus we decide to use transfer learning, a common approch used in deep learning to utilize the pretrained model on [imagenet](http://www.image-net.org/) and fine-tune on our own dataset, i.e. car dataset.\n",
        "\n",
        "This project can show you how to train and fine-tune a deep learning model using kera (tensorflow backend).\n",
        "\n",
        "![](https://ai.stanford.edu/~jkrause/cars/class_montage.jpg)"
      ]
    },
    {
      "cell_type": "markdown",
      "metadata": {
        "id": "WQpXkBSm90JH",
        "colab_type": "text"
      },
      "source": [
        "## 1.1 Transfer Learning\n",
        "Transfer learning is one of the most widely used technologies in deep learning and computer vision. If you are not familar with the concept of transfer learning, please refer to our course materials.\n",
        "\n",
        "![](https://cdn-images-1.medium.com/max/2000/1*9GTEzcO8KxxrfutmtsPs3Q.png)"
      ]
    },
    {
      "cell_type": "markdown",
      "metadata": {
        "id": "J7SmzE06ZXhR",
        "colab_type": "text"
      },
      "source": [
        "# 2.Making a car classifier using Pytorch\n",
        "\n",
        "In this notebook I'm making a car classifier using the Stanford car dataset, which contains 196 classes.\n",
        "I'll be using a pre-trained model with transfer learning to train the model. All layers will be fine tuned and the last fully connected layer will be replaced entirely.\n",
        "\n",
        "Dataset (196 classes):\n",
        "\n",
        "Train folder: 8144 images, avg: 41.5 images per class.\n",
        "\n",
        "Test folder: 8041 images, avg: 41.0 images per class."
      ]
    },
    {
      "cell_type": "markdown",
      "metadata": {
        "id": "_a37d63MA6fq",
        "colab_type": "text"
      },
      "source": [
        "## 2.1 mount google drive to colab"
      ]
    },
    {
      "cell_type": "code",
      "metadata": {
        "id": "GderMAYBHHJg",
        "colab_type": "code",
        "outputId": "275ae3a1-3a26-4437-da0f-f84e83cc68fe",
        "colab": {
          "base_uri": "https://localhost:8080/",
          "height": 125
        }
      },
      "source": [
        "from google.colab import drive\n",
        "drive.mount('/content/drive/')"
      ],
      "execution_count": 0,
      "outputs": [
        {
          "output_type": "stream",
          "text": [
            "Go to this URL in a browser: https://accounts.google.com/o/oauth2/auth?client_id=947318989803-6bn6qk8qdgf4n4g3pfee6491hc0brc4i.apps.googleusercontent.com&redirect_uri=urn%3aietf%3awg%3aoauth%3a2.0%3aoob&response_type=code&scope=email%20https%3a%2f%2fwww.googleapis.com%2fauth%2fdocs.test%20https%3a%2f%2fwww.googleapis.com%2fauth%2fdrive%20https%3a%2f%2fwww.googleapis.com%2fauth%2fdrive.photos.readonly%20https%3a%2f%2fwww.googleapis.com%2fauth%2fpeopleapi.readonly\n",
            "\n",
            "Enter your authorization code:\n",
            "··········\n",
            "Mounted at /content/drive/\n"
          ],
          "name": "stdout"
        }
      ]
    },
    {
      "cell_type": "markdown",
      "metadata": {
        "id": "f9RvZKqrBBzb",
        "colab_type": "text"
      },
      "source": [
        "## 2.2 Copy file from google drive to colab"
      ]
    },
    {
      "cell_type": "code",
      "metadata": {
        "id": "zRpQOCdWGXnT",
        "colab_type": "code",
        "outputId": "4f38c063-34b1-4fd1-81ec-59798098f861",
        "colab": {
          "base_uri": "https://localhost:8080/",
          "height": 52
        }
      },
      "source": [
        "### use % then it means linux command\n",
        "% ls  ./drive/My\\ Drive/CNN\\ for\\ car\\ classification/"
      ],
      "execution_count": 0,
      "outputs": [
        {
          "output_type": "stream",
          "text": [
            " car_classification_proj1.ipynb   stanford_car_dataset.zip\n",
            " \u001b[0m\u001b[01;34mstanford_car_dataset\u001b[0m/           \u001b[01;34m'stanford_car_dataset.zip (Unzipped Files)'\u001b[0m/\n"
          ],
          "name": "stdout"
        }
      ]
    },
    {
      "cell_type": "code",
      "metadata": {
        "id": "UH7sfHyJ_feK",
        "colab_type": "code",
        "colab": {}
      },
      "source": [
        "#% cp ./drive/My\\ Drive/CNN\\ for\\ car\\ classification/stanford_car_dataset.zip ./ \n"
      ],
      "execution_count": 0,
      "outputs": []
    },
    {
      "cell_type": "code",
      "metadata": {
        "id": "nABYCcRFSYOU",
        "colab_type": "code",
        "outputId": "c08cf710-ac1d-4d7a-e6cf-c9f0349e5e79",
        "colab": {
          "base_uri": "https://localhost:8080/",
          "height": 34
        }
      },
      "source": [
        "% cd ./drive/My\\ Drive/CNN\\ for\\ car\\ classification/stanford_car_dataset"
      ],
      "execution_count": 0,
      "outputs": [
        {
          "output_type": "stream",
          "text": [
            "/content/drive/My Drive/Colab Notebooks/Laioffer Project/CNN for car classification/stanford_car_dataset\n"
          ],
          "name": "stdout"
        }
      ]
    },
    {
      "cell_type": "markdown",
      "metadata": {
        "id": "od6_9e1GBPQ7",
        "colab_type": "text"
      },
      "source": [
        "## 2.3 Extract dataset files"
      ]
    },
    {
      "cell_type": "code",
      "metadata": {
        "id": "_3gTCY271nIS",
        "colab_type": "code",
        "outputId": "295bc0fb-9c1b-4670-cea7-718d346907a0",
        "colab": {
          "base_uri": "https://localhost:8080/",
          "height": 52
        }
      },
      "source": [
        "%%time\n",
        "# unzip dataset in colab\n",
        "#!mkdir ./stanford_car_dataset\n",
        "#!unzip -q stanford_car_dataset.zip -d ./stanford_car_dataset"
      ],
      "execution_count": 0,
      "outputs": [
        {
          "output_type": "stream",
          "text": [
            "CPU times: user 1 µs, sys: 0 ns, total: 1 µs\n",
            "Wall time: 4.05 µs\n"
          ],
          "name": "stdout"
        }
      ]
    },
    {
      "cell_type": "markdown",
      "metadata": {
        "id": "7YTAcNFKBTSm",
        "colab_type": "text"
      },
      "source": [
        "# 3.Build model"
      ]
    },
    {
      "cell_type": "markdown",
      "metadata": {
        "id": "80Fx_Cv-Bbbk",
        "colab_type": "text"
      },
      "source": [
        "## 3.1 Load packages\n",
        "\n",
        "The pytorch have been pre-installled on colab, and we do not need re-install these packages."
      ]
    },
    {
      "cell_type": "code",
      "metadata": {
        "trusted": true,
        "id": "Wmld6dLSZXhU",
        "colab_type": "code",
        "outputId": "c27d9368-afa8-407d-b0f1-338ffd4721aa",
        "colab": {
          "base_uri": "https://localhost:8080/",
          "height": 52
        }
      },
      "source": [
        "import matplotlib.pyplot as plt\n",
        "import numpy as np\n",
        "\n",
        "import torch\n",
        "import torch.nn as nn\n",
        "import torch.optim as optim\n",
        "import torchvision\n",
        "import torchvision.models as models\n",
        "import torchvision.transforms as transforms\n",
        "\n",
        "import time\n",
        "import os\n",
        "import tqdm\n",
        "import PIL.Image as Image\n",
        "from IPython.display import display\n",
        "\n",
        "#in order to use cuda, set notebook runtime at GPU in notebook setting\n",
        "device = torch.device(\"cuda:0\" if torch.cuda.is_available() else \"cpu\")\n",
        "print(device)\n",
        "print(torch.cuda.get_device_name(device))"
      ],
      "execution_count": 0,
      "outputs": [
        {
          "output_type": "stream",
          "text": [
            "cuda:0\n",
            "Tesla P100-PCIE-16GB\n"
          ],
          "name": "stdout"
        }
      ]
    },
    {
      "cell_type": "markdown",
      "metadata": {
        "id": "SEGLzCXMZXhb",
        "colab_type": "text"
      },
      "source": [
        "## 3.2 Load the data and transform\n",
        "\n",
        "First, lets create some transforms for our data and load the train/test data+labels from the folders.\n",
        "\n",
        "Here we are using 224x224 images (you can also change the resolution) with random horizontal flip, random rotation and normalization"
      ]
    },
    {
      "cell_type": "code",
      "metadata": {
        "trusted": true,
        "id": "qBN8afm4ZXhc",
        "colab_type": "code",
        "colab": {}
      },
      "source": [
        "dataset_dir = \"car_data/car_data/\"\n",
        "\n",
        "# data transformation, you can try different transformation/ data augmentation here\n",
        "# note: no data augmentation for test data\n",
        "\n",
        "#transforms.RandomResizedCrop(224): This will extract a patch of size (224, 224) from your input image randomly. \n",
        "#   So, it might pick this path from topleft, bottomright or anywhere in between. So, you are doing data augmentation in this part. Also, changing this value won't play nice with the fully-connected layers in your model, so not advised to change this.\n",
        "#transforms.RandomHorizontalFlip(): Once we have our image of size (224, 224), we can choose to flip it. \n",
        "#    This is another part of data augmentation.\n",
        "#transforms.ToTensor(): This just converts your input image to PyTorch tensor.\n",
        "#transforms.Normalize([0.485, 0.456, 0.406], [0.229, 0.224, 0.225]): This is just input data scaling and these values (mean and std) must have been precomputed for your dataset. Changing these values is also not advised.\n",
        "\n",
        "width, height = 224, 224\n",
        "train_tfms = transforms.Compose([transforms.Resize((width, height)),\n",
        "                                 # transforms.RandomHorizontalFlip(),\n",
        "                                 # transforms.RandomRotation(15),\n",
        "                                 transforms.ToTensor(),\n",
        "                                 transforms.Normalize([0.485, 0.456, 0.406], [0.229, 0.224, 0.225])])\n",
        "test_tfms = transforms.Compose([transforms.Resize((width, height)),\n",
        "                                transforms.ToTensor(),\n",
        "                                transforms.Normalize([0.485, 0.456, 0.406], [0.229, 0.224, 0.225])])\n",
        "\n",
        "# create datasets\n",
        "dataset = torchvision.datasets.ImageFolder(root= dataset_dir + \"train\", transform=train_tfms)\n",
        "trainloader = torch.utils.data.DataLoader(dataset, batch_size=32, shuffle=True, num_workers=2)\n",
        "\n",
        "dataset2 = torchvision.datasets.ImageFolder(root=dataset_dir+\"test\", transform = test_tfms)\n",
        "testloader = torch.utils.data.DataLoader(dataset2, batch_size=32, shuffle=False, num_workers=2)\n"
      ],
      "execution_count": 0,
      "outputs": []
    },
    {
      "cell_type": "markdown",
      "metadata": {
        "id": "XLO9RrULZXhf",
        "colab_type": "text"
      },
      "source": [
        "## 3.3 Model training function\n",
        "\n",
        "Here we train our model, after each epoch, we test the model on the test data to see how it's going"
      ]
    },
    {
      "cell_type": "code",
      "metadata": {
        "trusted": true,
        "id": "430hhzprZXhf",
        "colab_type": "code",
        "colab": {}
      },
      "source": [
        "def train_model(model, criterion, optimizer, scheduler, n_epochs=5):\n",
        "    \n",
        "    losses = []\n",
        "    accuracies = []\n",
        "    test_accuracies = []\n",
        "\n",
        "    # set the model to train mode initially\n",
        "    # tqdm.tqdm: progress bar\n",
        "    model.train()\n",
        "    for epoch in tqdm.tqdm(range(n_epochs)):\n",
        "        since = time.time()\n",
        "        running_loss = 0.0\n",
        "        running_correct = 0.0\n",
        "        for i, data in enumerate(trainloader, start=0):  #start: assign the start index to the first item \n",
        "\n",
        "            # get the inputs and assign them to cuda\n",
        "            inputs, labels = data\n",
        "            #inputs = inputs.to(device).half() # uncomment for half precision model\n",
        "            inputs = inputs.to(device)\n",
        "            labels = labels.to(device)\n",
        "            #set the start gradient to zero, since the backward() function accumulates gradients, \n",
        "            #and you don’t want to mix up gradients between minibatches, you have to zero them out\n",
        "            # at the start of a new minibatch. This is exactly like how a general (additive) accumulator\n",
        "            # variable is initialized to 0 in code.\n",
        "            optimizer.zero_grad()  \n",
        "\n",
        "            # forward + backward + optimize\n",
        "            outputs = model(inputs)\n",
        "            _, predicted = torch.max(outputs.data, 1)\n",
        "            loss = criterion(outputs, labels)\n",
        "            loss.backward()\n",
        "            optimizer.step()\n",
        "            \n",
        "            # calculate the loss/acc later\n",
        "            running_loss += loss.item()\n",
        "            running_correct += (labels==predicted).sum().item()\n",
        "\n",
        "        epoch_duration = time.time() - since\n",
        "        epoch_loss = running_loss / len(trainloader)\n",
        "        epoch_acc = 100 / 32 * running_correct / len(trainloader)\n",
        "        print(\"Epoch %s, duration: %d s, loss: %.4f, acc: %.4f\" % (epoch+1, epoch_duration, epoch_loss, epoch_acc))\n",
        "        \n",
        "        losses.append(epoch_loss)\n",
        "        accuracies.append(epoch_acc)\n",
        "        \n",
        "        # switch the model to eval mode to evaluate on test data\n",
        "        model.eval()\n",
        "        test_acc = eval_model(model)\n",
        "        test_accuracies.append(test_acc)\n",
        "        \n",
        "        # re-set the model to train mode after validating\n",
        "        model.train()\n",
        "        scheduler.step(test_acc)\n",
        "        since = time.time()\n",
        "    print('Finished Training')\n",
        "    return model, losses, accuracies, test_accuracies"
      ],
      "execution_count": 0,
      "outputs": []
    },
    {
      "cell_type": "markdown",
      "metadata": {
        "id": "SApHdqV-ZXhi",
        "colab_type": "text"
      },
      "source": [
        "## 3.4 Evaluate on training data\n",
        "This function is called out after each epoch of training on the training data. We then measure the accuracy of the model."
      ]
    },
    {
      "cell_type": "code",
      "metadata": {
        "trusted": true,
        "id": "m7HcAWnVZXhj",
        "colab_type": "code",
        "colab": {}
      },
      "source": [
        "def eval_model(model):\n",
        "    correct = 0.0\n",
        "    total = 0.0\n",
        "    with torch.no_grad():\n",
        "        for i, data in enumerate(testloader, 0):\n",
        "            images, labels = data\n",
        "            #images = images.to(device).half() # uncomment for half precision model\n",
        "            images = images.to(device)\n",
        "            labels = labels.to(device)\n",
        "\n",
        "            outputs = model_ft(images)\n",
        "            _, predicted = torch.max(outputs.data, 1)\n",
        "\n",
        "            total += labels.size(0)\n",
        "            correct += (predicted == labels).sum().item()\n",
        "\n",
        "    test_acc = 100.0 * correct / total\n",
        "    print('Accuracy of the network on the test images: %d %%' % (\n",
        "        test_acc))\n",
        "    return test_acc"
      ],
      "execution_count": 0,
      "outputs": []
    },
    {
      "cell_type": "markdown",
      "metadata": {
        "id": "ouIHQb3uJZsE",
        "colab_type": "text"
      },
      "source": [
        "# 4.Experiment"
      ]
    },
    {
      "cell_type": "markdown",
      "metadata": {
        "id": "Wly0BhFZJeHK",
        "colab_type": "text"
      },
      "source": [
        "## 4.1 define parameters"
      ]
    },
    {
      "cell_type": "code",
      "metadata": {
        "trusted": true,
        "id": "eY0_fTZ8ZXhm",
        "colab_type": "code",
        "outputId": "96940585-f4e3-4187-fa4a-8d22d7b8e8e7",
        "colab": {
          "base_uri": "https://localhost:8080/",
          "height": 84,
          "referenced_widgets": [
            "497cbcc6cb704234930dbdb50db45104",
            "a6934572c16649df84e4d0bc0809b677",
            "7eae348bfbd741288f999e6194f2b76f",
            "906fd1675f1a434b97de6e3d58f9c71c",
            "6938e0a68f8d4316b7e0a3ee05173f05",
            "952c0612c5e445a5a598a3592353bec7",
            "5923a91036d84d28bacceb6f43616ce1",
            "4e042282897a4f1fa978a9adf5015263"
          ]
        }
      },
      "source": [
        "##fine tuning doc.\n",
        "#https://pytorch.org/tutorials/beginner/transfer_learning_tutorial.html\n",
        "\n",
        "NUM_CAR_CLASSES = 196\n",
        "model_ft = models.alexnet(pretrained=True)  # resnet34(pretrained=True)\n",
        "\n",
        "# Freezing model parameters and defining the fully connected network to be attached to the model, \n",
        "# loss function and the optimizer.\n",
        "# We there after put the model on the GPUs\n",
        "# for param in model_ft.parameters():\n",
        "#     param.require_grad = False\n",
        "\n",
        "# replace the last fc layer with an untrained one (requires grad by default)\n",
        "\n",
        "# for alexnet\n",
        "num_ftrs = model_ft.classifier[6].in_features\n",
        "model_ft.classifier[6] = nn.Linear(num_ftrs, NUM_CAR_CLASSES)\n",
        "\n",
        "# for resnet34\n",
        "# num_ftrs = model_ft.fc.in_features\n",
        "# model_ft.fc = nn.Linear(num_ftrs, NUM_CAR_CLASSES)\n",
        "\n",
        "model_ft = model_ft.to(device)\n",
        "\n",
        "# uncomment this block for half precision model\n",
        "\"\"\"\n",
        "model_ft = model_ft.half()\n",
        "\n",
        "\n",
        "for layer in model_ft.modules():\n",
        "    if isinstance(layer, nn.BatchNorm2d):\n",
        "        layer.float()\n",
        "\"\"\"\n",
        "criterion = nn.CrossEntropyLoss()\n",
        "optimizer = optim.SGD(model_ft.parameters(), lr=0.01, momentum=0.9)\n",
        "\n",
        "\"\"\"\n",
        "probably not the best metric to track, but we are tracking the training accuracy and measuring whether\n",
        "it increases by atleast 0.9 per epoch and if it hasn't increased by 0.9 reduce the lr by 0.1x.\n",
        "However in this model it did not benefit me.\n",
        "\"\"\"\n",
        "lrscheduler = optim.lr_scheduler.ReduceLROnPlateau(optimizer, mode='max', patience=3, threshold = 0.8)\n",
        "#lrscheduler = optim.lr_scheduler.StepLR(optimizer, step_size=5, gamma= = 0.05)"
      ],
      "execution_count": 0,
      "outputs": [
        {
          "output_type": "stream",
          "text": [
            "Downloading: \"https://download.pytorch.org/models/alexnet-owt-4df8aa71.pth\" to /root/.cache/torch/checkpoints/alexnet-owt-4df8aa71.pth\n"
          ],
          "name": "stderr"
        },
        {
          "output_type": "display_data",
          "data": {
            "application/vnd.jupyter.widget-view+json": {
              "model_id": "497cbcc6cb704234930dbdb50db45104",
              "version_minor": 0,
              "version_major": 2
            },
            "text/plain": [
              "HBox(children=(FloatProgress(value=0.0, max=244418560.0), HTML(value='')))"
            ]
          },
          "metadata": {
            "tags": []
          }
        },
        {
          "output_type": "stream",
          "text": [
            "\n"
          ],
          "name": "stdout"
        }
      ]
    },
    {
      "cell_type": "markdown",
      "metadata": {
        "id": "y22f6wzZJiWT",
        "colab_type": "text"
      },
      "source": [
        "## 4.2 model training"
      ]
    },
    {
      "cell_type": "code",
      "metadata": {
        "trusted": true,
        "id": "vFaSvRlqZXhr",
        "colab_type": "code",
        "outputId": "48ecc2bc-a164-471f-8e0c-26ca346d529f",
        "colab": {
          "base_uri": "https://localhost:8080/",
          "height": 763
        }
      },
      "source": [
        "model_ft, training_losses, training_accs, test_accs = train_model(model_ft, criterion, optimizer, lrscheduler, n_epochs=20)"
      ],
      "execution_count": 0,
      "outputs": [
        {
          "output_type": "stream",
          "text": [
            "\r  0%|          | 0/20 [00:00<?, ?it/s]"
          ],
          "name": "stderr"
        },
        {
          "output_type": "stream",
          "text": [
            "Epoch 1, duration: 2126 s, loss: 5.2877, acc: 0.6618\n"
          ],
          "name": "stdout"
        },
        {
          "output_type": "stream",
          "text": [
            "\r  5%|▌         | 1/20 [1:13:42<23:20:28, 4422.53s/it]"
          ],
          "name": "stderr"
        },
        {
          "output_type": "stream",
          "text": [
            "Accuracy of the network on the test images: 0 %\n",
            "Epoch 2, duration: 83 s, loss: 5.2766, acc: 0.8824\n"
          ],
          "name": "stdout"
        },
        {
          "output_type": "stream",
          "text": [
            "\r 10%|█         | 2/20 [1:16:30<15:43:48, 3146.03s/it]"
          ],
          "name": "stderr"
        },
        {
          "output_type": "stream",
          "text": [
            "Accuracy of the network on the test images: 0 %\n",
            "Epoch 3, duration: 85 s, loss: 5.2659, acc: 0.6985\n"
          ],
          "name": "stdout"
        },
        {
          "output_type": "stream",
          "text": [
            "\r 15%|█▌        | 3/20 [1:19:17<10:38:11, 2252.42s/it]"
          ],
          "name": "stderr"
        },
        {
          "output_type": "stream",
          "text": [
            "Accuracy of the network on the test images: 0 %\n",
            "Epoch 4, duration: 84 s, loss: 5.2506, acc: 1.0049\n"
          ],
          "name": "stdout"
        },
        {
          "output_type": "stream",
          "text": [
            "\r 20%|██        | 4/20 [1:22:03<7:13:44, 1626.51s/it] "
          ],
          "name": "stderr"
        },
        {
          "output_type": "stream",
          "text": [
            "Accuracy of the network on the test images: 0 %\n",
            "Epoch 5, duration: 84 s, loss: 5.2015, acc: 1.4583\n"
          ],
          "name": "stdout"
        },
        {
          "output_type": "stream",
          "text": [
            "\r 25%|██▌       | 5/20 [1:24:50<4:57:07, 1188.53s/it]"
          ],
          "name": "stderr"
        },
        {
          "output_type": "stream",
          "text": [
            "Accuracy of the network on the test images: 1 %\n",
            "Epoch 6, duration: 84 s, loss: 4.9438, acc: 3.6275\n"
          ],
          "name": "stdout"
        },
        {
          "output_type": "stream",
          "text": [
            "\r 30%|███       | 6/20 [1:27:36<3:25:45, 881.85s/it] "
          ],
          "name": "stderr"
        },
        {
          "output_type": "stream",
          "text": [
            "Accuracy of the network on the test images: 3 %\n",
            "Epoch 7, duration: 84 s, loss: 4.6448, acc: 6.4338\n"
          ],
          "name": "stdout"
        },
        {
          "output_type": "stream",
          "text": [
            "\r 35%|███▌      | 7/20 [1:30:21<2:24:28, 666.84s/it]"
          ],
          "name": "stderr"
        },
        {
          "output_type": "stream",
          "text": [
            "Accuracy of the network on the test images: 5 %\n",
            "Epoch 8, duration: 83 s, loss: 4.2078, acc: 11.2868\n"
          ],
          "name": "stdout"
        },
        {
          "output_type": "stream",
          "text": [
            "\r 40%|████      | 8/20 [1:33:05<1:43:13, 516.14s/it]"
          ],
          "name": "stderr"
        },
        {
          "output_type": "stream",
          "text": [
            "Accuracy of the network on the test images: 9 %\n",
            "Epoch 9, duration: 83 s, loss: 3.6252, acc: 18.9461\n"
          ],
          "name": "stdout"
        },
        {
          "output_type": "stream",
          "text": [
            "\r 45%|████▌     | 9/20 [1:35:50<1:15:16, 410.58s/it]"
          ],
          "name": "stderr"
        },
        {
          "output_type": "stream",
          "text": [
            "Accuracy of the network on the test images: 13 %\n",
            "Epoch 10, duration: 83 s, loss: 2.9841, acc: 28.7500\n"
          ],
          "name": "stdout"
        },
        {
          "output_type": "stream",
          "text": [
            "\r 50%|█████     | 10/20 [1:38:32<56:01, 336.13s/it] "
          ],
          "name": "stderr"
        },
        {
          "output_type": "stream",
          "text": [
            "Accuracy of the network on the test images: 18 %\n",
            "Epoch 11, duration: 83 s, loss: 2.3455, acc: 40.5882\n"
          ],
          "name": "stdout"
        },
        {
          "output_type": "stream",
          "text": [
            "\r 55%|█████▌    | 11/20 [1:41:15<42:36, 284.08s/it]"
          ],
          "name": "stderr"
        },
        {
          "output_type": "stream",
          "text": [
            "Accuracy of the network on the test images: 21 %\n",
            "Epoch 12, duration: 82 s, loss: 1.7322, acc: 53.9583\n"
          ],
          "name": "stdout"
        },
        {
          "output_type": "stream",
          "text": [
            "\r 60%|██████    | 12/20 [1:43:56<32:58, 247.31s/it]"
          ],
          "name": "stderr"
        },
        {
          "output_type": "stream",
          "text": [
            "Accuracy of the network on the test images: 23 %\n",
            "Epoch 13, duration: 82 s, loss: 1.2739, acc: 64.5098\n"
          ],
          "name": "stdout"
        },
        {
          "output_type": "stream",
          "text": [
            "\r 65%|██████▌   | 13/20 [1:46:38<25:51, 221.58s/it]"
          ],
          "name": "stderr"
        },
        {
          "output_type": "stream",
          "text": [
            "Accuracy of the network on the test images: 26 %\n",
            "Epoch 14, duration: 81 s, loss: 0.9035, acc: 73.4681\n"
          ],
          "name": "stdout"
        },
        {
          "output_type": "stream",
          "text": [
            "\r 70%|███████   | 14/20 [1:49:19<20:20, 203.49s/it]"
          ],
          "name": "stderr"
        },
        {
          "output_type": "stream",
          "text": [
            "Accuracy of the network on the test images: 27 %\n",
            "Epoch 15, duration: 82 s, loss: 0.3531, acc: 90.1348\n"
          ],
          "name": "stdout"
        },
        {
          "output_type": "stream",
          "text": [
            "\r 75%|███████▌  | 15/20 [1:52:02<15:56, 191.23s/it]"
          ],
          "name": "stderr"
        },
        {
          "output_type": "stream",
          "text": [
            "Accuracy of the network on the test images: 31 %\n",
            "Epoch 16, duration: 83 s, loss: 0.2410, acc: 92.8922\n"
          ],
          "name": "stdout"
        },
        {
          "output_type": "stream",
          "text": [
            "\r 80%|████████  | 16/20 [1:54:45<12:11, 182.76s/it]"
          ],
          "name": "stderr"
        },
        {
          "output_type": "stream",
          "text": [
            "Accuracy of the network on the test images: 32 %\n",
            "Epoch 17, duration: 82 s, loss: 0.2101, acc: 93.9583\n"
          ],
          "name": "stdout"
        },
        {
          "output_type": "stream",
          "text": [
            "\r 85%|████████▌ | 17/20 [1:57:27<08:49, 176.63s/it]"
          ],
          "name": "stderr"
        },
        {
          "output_type": "stream",
          "text": [
            "Accuracy of the network on the test images: 32 %\n",
            "Epoch 18, duration: 82 s, loss: 0.1831, acc: 94.5588\n"
          ],
          "name": "stdout"
        },
        {
          "output_type": "stream",
          "text": [
            "\r 90%|█████████ | 18/20 [2:00:10<05:44, 172.42s/it]"
          ],
          "name": "stderr"
        },
        {
          "output_type": "stream",
          "text": [
            "Accuracy of the network on the test images: 32 %\n",
            "Epoch 19, duration: 83 s, loss: 0.1549, acc: 95.7108\n"
          ],
          "name": "stdout"
        },
        {
          "output_type": "stream",
          "text": [
            "\r 95%|█████████▌| 19/20 [2:02:53<02:49, 169.82s/it]"
          ],
          "name": "stderr"
        },
        {
          "output_type": "stream",
          "text": [
            "Accuracy of the network on the test images: 32 %\n",
            "Epoch 20, duration: 83 s, loss: 0.1512, acc: 95.9559\n"
          ],
          "name": "stdout"
        },
        {
          "output_type": "stream",
          "text": [
            "100%|██████████| 20/20 [2:05:38<00:00, 376.93s/it]"
          ],
          "name": "stderr"
        },
        {
          "output_type": "stream",
          "text": [
            "Accuracy of the network on the test images: 32 %\n",
            "Finished Training\n"
          ],
          "name": "stdout"
        },
        {
          "output_type": "stream",
          "text": [
            "\n"
          ],
          "name": "stderr"
        }
      ]
    },
    {
      "cell_type": "markdown",
      "metadata": {
        "id": "rr7qkcBbZXhu",
        "colab_type": "text"
      },
      "source": [
        "## 4.3 As we can see the model reached 90% training accuracy by epoch 15.\n"
      ]
    },
    {
      "cell_type": "code",
      "metadata": {
        "trusted": true,
        "id": "MGJZtLKtZXhv",
        "colab_type": "code",
        "outputId": "7338ca36-ac97-46bc-bc42-470c67051737",
        "colab": {
          "base_uri": "https://localhost:8080/",
          "height": 516
        }
      },
      "source": [
        "# plot the stats\n",
        "\n",
        "f, axarr = plt.subplots(2,2, figsize = (12, 8))\n",
        "axarr[0, 0].plot(training_losses)\n",
        "axarr[0, 0].set_title(\"Training loss\")\n",
        "axarr[0, 1].plot(training_accs)\n",
        "axarr[0, 1].set_title(\"Training acc\")\n",
        "axarr[1, 0].plot(test_accs)\n",
        "axarr[1, 0].set_title(\"Test acc\")"
      ],
      "execution_count": 0,
      "outputs": [
        {
          "output_type": "execute_result",
          "data": {
            "text/plain": [
              "Text(0.5, 1.0, 'Test acc')"
            ]
          },
          "metadata": {
            "tags": []
          },
          "execution_count": 11
        },
        {
          "output_type": "display_data",
          "data": {
            "image/png": "[encoded data removed]",
            "text/plain": [
              "<Figure size 864x576 with 4 Axes>"
            ]
          },
          "metadata": {
            "tags": [],
            "needs_background": "light"
          }
        }
      ]
    },
    {
      "cell_type": "markdown",
      "metadata": {
        "id": "JxW-YfstZXhy",
        "colab_type": "text"
      },
      "source": [
        "## 4.4 Evaluate the model on single images (e.g for production)\n",
        "\n",
        "Next we can use the model on our own images. For that we need to tie the class numbers for which the model returns probablities with the names of those classes.\n"
      ]
    },
    {
      "cell_type": "code",
      "metadata": {
        "trusted": true,
        "id": "CiskimFLZXhz",
        "colab_type": "code",
        "colab": {}
      },
      "source": [
        "# tie the class indices to their names\n",
        "\n",
        "def find_classes(dir):\n",
        "    classes = os.listdir(dir)\n",
        "    classes.sort()\n",
        "    class_to_idx = {classes[i]: i for i in range(len(classes))}\n",
        "    return classes, class_to_idx\n",
        "classes, c_to_idx = find_classes(dataset_dir+\"train\")"
      ],
      "execution_count": 0,
      "outputs": []
    },
    {
      "cell_type": "code",
      "metadata": {
        "trusted": true,
        "id": "flkEoZY3ZXh6",
        "colab_type": "code",
        "colab": {}
      },
      "source": [
        "# test the model on random images\n",
        "\n",
        "\n",
        "# switch the model to evaluation mode to make dropout and batch norm work in eval mode\n",
        "model_ft.eval()\n",
        "\n",
        "# transforms for the input image\n",
        "loader = transforms.Compose([transforms.Resize((400, 400)),\n",
        "                                transforms.ToTensor(),\n",
        "                                transforms.Normalize((0.5, 0.5, 0.5), (0.5, 0.5, 0.5))])\n",
        "image = Image.open(dataset_dir+\"test/Mercedes-Benz C-Class Sedan 2012/01977.jpg\")\n",
        "image = loader(image).float()\n",
        "image = torch.autograd.Variable(image, requires_grad=True)\n",
        "image = image.unsqueeze(0)\n",
        "image = image.cuda()\n",
        "output = model_ft(image)\n",
        "conf, predicted = torch.max(output.data, 1)"
      ],
      "execution_count": 0,
      "outputs": []
    },
    {
      "cell_type": "code",
      "metadata": {
        "trusted": true,
        "id": "R6fuUhijZXh9",
        "colab_type": "code",
        "outputId": "1369fe4e-bec1-43ad-d09a-9266d1ffed00",
        "colab": {
          "base_uri": "https://localhost:8080/",
          "height": 390
        }
      },
      "source": [
        "# get the class name of the prediction\n",
        "display(Image.open(dataset_dir+\"test/Mercedes-Benz C-Class Sedan 2012/01977.jpg\"))\n",
        "print(classes[predicted.item()], \"confidence: \", conf.item())"
      ],
      "execution_count": 0,
      "outputs": [
        {
          "output_type": "display_data",
          "data": {
            "image/png": "[encoded data removed]",
            "text/plain": [
              "<PIL.JpegImagePlugin.JpegImageFile image mode=RGB size=569x355 at 0x7FBE7E192748>"
            ]
          },
          "metadata": {
            "tags": []
          }
        },
        {
          "output_type": "stream",
          "text": [
            "BMW Z4 Convertible 2012 confidence:  11.32464599609375\n"
          ],
          "name": "stdout"
        }
      ]
    },
    {
      "cell_type": "markdown",
      "metadata": {
        "id": "UJ7acq8tKDE4",
        "colab_type": "text"
      },
      "source": [
        "# 5.Save and load model"
      ]
    },
    {
      "cell_type": "code",
      "metadata": {
        "id": "VRedDPA6KGOl",
        "colab_type": "code",
        "colab": {}
      },
      "source": [
        "PATH = 'car_model.pth'\n",
        "torch.save(model_ft.state_dict(), PATH)"
      ],
      "execution_count": 0,
      "outputs": []
    },
    {
      "cell_type": "code",
      "metadata": {
        "id": "ZJXnBDcsKRBU",
        "colab_type": "code",
        "outputId": "3fee7cbf-551b-45a9-a5ec-56d4130bcfd7",
        "colab": {
          "base_uri": "https://localhost:8080/",
          "height": 1000
        }
      },
      "source": [
        "model_loaded = torch.load(PATH)\n",
        "model_loaded\n"
      ],
      "execution_count": 0,
      "outputs": [
        {
          "output_type": "execute_result",
          "data": {
            "text/plain": [
              "OrderedDict([('features.0.weight',\n",
              "              tensor([[[[ 1.2197e-01,  9.4081e-02,  9.5364e-02,  ...,  5.2691e-02,\n",
              "                          1.9471e-02,  4.9012e-02],\n",
              "                        [ 7.8975e-02,  3.9891e-02,  5.3527e-02,  ...,  2.0679e-02,\n",
              "                         -1.5318e-02,  2.1844e-03],\n",
              "                        [ 8.0163e-02,  4.0692e-02,  5.6586e-02,  ...,  4.1011e-02,\n",
              "                          6.9263e-03,  1.2139e-02],\n",
              "                        ...,\n",
              "                        [ 9.3605e-02,  1.0208e-01,  6.4691e-02,  ..., -2.0915e-01,\n",
              "                         -1.2946e-01, -1.1106e-01],\n",
              "                        [ 4.4031e-02,  6.3890e-02,  3.5131e-02,  ..., -2.0820e-01,\n",
              "                         -1.1559e-01, -1.0670e-01],\n",
              "                        [ 4.8756e-02,  6.2985e-02,  2.6924e-02,  ..., -1.1998e-01,\n",
              "                         -9.4708e-02, -8.0798e-02]],\n",
              "              \n",
              "                       [[-6.9934e-02, -5.7579e-02, -7.9322e-02,  ..., -3.5910e-03,\n",
              "                         -2.7007e-02,  2.5271e-02],\n",
              "                        [-6.5663e-02, -6.6555e-02, -7.4855e-02,  ..., -9.3084e-03,\n",
              "                         -3.5043e-02,  7.8320e-03],\n",
              "                        [-9.5707e-02, -8.3972e-02, -1.0324e-01,  ..., -3.0552e-02,\n",
              "                         -2.7472e-02,  3.8981e-03],\n",
              "                        ...,\n",
              "                        [-1.4595e-01, -8.4579e-02, -9.3708e-02,  ...,  3.0188e-01,\n",
              "                          1.7963e-01,  8.5610e-02],\n",
              "                        [-1.3702e-01, -7.0165e-02, -6.6876e-02,  ...,  1.9879e-01,\n",
              "                          1.6298e-01,  9.6138e-02],\n",
              "                        [-7.8803e-02, -3.3270e-02, -4.2999e-02,  ...,  1.6245e-01,\n",
              "                          1.4901e-01,  1.0522e-01]],\n",
              "              \n",
              "                       [[-2.4743e-02, -5.6045e-03, -3.0049e-02,  ...,  3.4173e-02,\n",
              "                         -1.0589e-02,  3.0602e-02],\n",
              "                        [-6.5198e-05,  1.9806e-02,  6.5803e-03,  ...,  1.0685e-02,\n",
              "                         -2.0264e-02,  1.4110e-02],\n",
              "                        [ 5.0172e-03,  2.7175e-02, -1.8721e-03,  ...,  4.8820e-03,\n",
              "                         -9.1220e-03,  3.8502e-03],\n",
              "                        ...,\n",
              "                        [-5.7815e-02, -7.5246e-03, -5.9532e-02,  ...,  9.5909e-02,\n",
              "                         -1.1500e-02, -7.9045e-02],\n",
              "                        [-3.9717e-02,  9.0685e-03, -3.4411e-02,  ..., -3.1831e-02,\n",
              "                         -3.5418e-02, -7.6137e-02],\n",
              "                        [-1.2132e-02,  1.7865e-02, -3.1682e-02,  ..., -6.9369e-02,\n",
              "                         -4.0743e-02, -5.2774e-02]]],\n",
              "              \n",
              "              \n",
              "                      [[[ 2.4418e-03,  7.3242e-03,  5.2059e-02,  ...,  6.6615e-02,\n",
              "                          3.4152e-02,  2.9032e-02],\n",
              "                        [-8.5056e-03, -4.5083e-05,  2.2841e-02,  ...,  5.8812e-02,\n",
              "                          2.2125e-02,  3.1635e-02],\n",
              "                        [ 4.8643e-03,  1.8694e-04,  2.7857e-02,  ..., -2.6438e-02,\n",
              "                         -6.1881e-02,  3.0506e-02],\n",
              "                        ...,\n",
              "                        [-1.2528e-02, -3.1553e-03,  1.5360e-02,  ...,  2.4790e-02,\n",
              "                          9.7182e-04,  6.9501e-02],\n",
              "                        [-2.1299e-03, -1.4518e-02,  7.0784e-03,  ...,  2.1849e-02,\n",
              "                         -2.2091e-02,  5.2119e-02],\n",
              "                        [-5.5586e-02, -4.7222e-02, -1.1216e-02,  ...,  1.5644e-03,\n",
              "                         -4.1479e-03,  1.5860e-02]],\n",
              "              \n",
              "                       [[ 2.4314e-02,  2.4051e-02,  8.8201e-03,  ...,  1.0613e-02,\n",
              "                         -1.7122e-02,  5.3608e-02],\n",
              "                        [ 2.6939e-02,  4.6278e-02,  2.2844e-03,  ...,  4.9396e-02,\n",
              "                         -1.4275e-02,  7.3585e-02],\n",
              "                        [ 1.1112e-02,  9.6761e-03, -4.0093e-02,  ..., -1.1976e-01,\n",
              "                         -1.6053e-01,  3.3207e-02],\n",
              "                        ...,\n",
              "                        [ 3.4178e-02,  5.5668e-02,  1.3638e-02,  ...,  1.0926e-02,\n",
              "                         -3.1503e-02,  8.8859e-02],\n",
              "                        [ 1.2029e-02,  2.1244e-02, -8.1166e-03,  ..., -6.0615e-03,\n",
              "                         -5.5669e-02,  5.9052e-02],\n",
              "                        [ 7.0833e-02,  8.5757e-02,  5.5824e-02,  ...,  5.2133e-02,\n",
              "                          1.0953e-02,  9.6344e-02]],\n",
              "              \n",
              "                       [[-3.9416e-02,  4.6420e-03, -3.9494e-02,  ..., -1.6923e-02,\n",
              "                         -7.6870e-02,  3.6152e-03],\n",
              "                        [-9.3672e-03,  5.4490e-02,  7.9302e-03,  ...,  7.3930e-02,\n",
              "                         -1.2848e-03,  4.7020e-02],\n",
              "                        [-8.5727e-02, -2.8423e-02, -7.6875e-02,  ..., -6.1311e-02,\n",
              "                         -1.3252e-01,  2.0191e-02],\n",
              "                        ...,\n",
              "                        [-4.5229e-02,  2.9107e-02, -2.9595e-02,  ..., -2.3177e-02,\n",
              "                         -1.0849e-01,  3.7987e-02],\n",
              "                        [-6.8611e-02, -2.7821e-02, -8.1184e-02,  ..., -8.6543e-02,\n",
              "                         -1.6798e-01, -1.7296e-02],\n",
              "                        [-1.4992e-03,  3.9945e-02, -1.7733e-02,  ..., -5.3172e-02,\n",
              "                         -1.0580e-01,  1.7219e-02]]],\n",
              "              \n",
              "              \n",
              "                      [[[-5.0133e-02,  1.7557e-02,  1.4217e-02,  ..., -8.9488e-02,\n",
              "                         -1.0551e-01, -2.1010e-01],\n",
              "                        [-8.8221e-02, -1.1994e-02, -3.1900e-02,  ..., -7.2331e-02,\n",
              "                         -1.4508e-01, -2.9600e-01],\n",
              "                        [-1.3080e-01, -4.2534e-02, -4.6730e-02,  ...,  2.2241e-01,\n",
              "                          4.1832e-02, -1.6423e-01],\n",
              "                        ...,\n",
              "                        [-1.0917e-01, -1.0171e-01, -2.6182e-01,  ...,  1.3057e-01,\n",
              "                          1.9895e-01,  1.3226e-01],\n",
              "                        [-8.2226e-02, -6.3338e-02, -2.2586e-01,  ...,  3.7907e-02,\n",
              "                          1.0835e-01,  1.0969e-01],\n",
              "                        [ 4.0313e-02,  4.9516e-02, -1.2717e-01,  ..., -3.2293e-02,\n",
              "                          2.2657e-02,  5.0610e-02]],\n",
              "              \n",
              "                       [[ 3.6870e-02,  5.1393e-03, -3.7268e-03,  ..., -2.5274e-02,\n",
              "                          3.8318e-02,  1.0830e-01],\n",
              "                        [ 6.6859e-02,  2.0952e-02,  4.0017e-03,  ..., -4.7747e-02,\n",
              "                          2.1268e-02,  1.0928e-01],\n",
              "                        [ 8.0620e-02,  4.1055e-02,  1.4405e-02,  ..., -1.5892e-01,\n",
              "                         -9.4147e-02,  3.2519e-02],\n",
              "                        ...,\n",
              "                        [ 1.2477e-01,  9.0432e-02,  1.4132e-01,  ..., -6.3056e-02,\n",
              "                         -9.6720e-02, -6.7169e-02],\n",
              "                        [ 1.2246e-01,  9.6469e-02,  1.3372e-01,  ..., -2.6214e-02,\n",
              "                         -7.2423e-02, -2.6700e-02],\n",
              "                        [ 7.8524e-02,  7.3717e-02,  9.7110e-02,  ...,  6.7114e-03,\n",
              "                         -3.5618e-02, -1.5286e-02]],\n",
              "              \n",
              "                       [[ 1.3010e-02, -2.5428e-02,  1.4049e-02,  ...,  8.9308e-02,\n",
              "                          1.1727e-01,  1.0535e-01],\n",
              "                        [ 1.3561e-02, -2.5435e-02,  8.9580e-03,  ...,  7.6571e-02,\n",
              "                          1.4619e-01,  1.7303e-01],\n",
              "                        [ 7.5964e-02,  1.6943e-02,  4.8834e-02,  ..., -6.5069e-02,\n",
              "                          2.7564e-02,  1.6293e-01],\n",
              "                        ...,\n",
              "                        [-1.2151e-02, -3.2705e-02,  1.1197e-01,  ..., -6.8147e-02,\n",
              "                         -1.0790e-01, -8.2683e-02],\n",
              "                        [-7.6356e-03, -2.8893e-02,  1.1718e-01,  ..., -6.3492e-03,\n",
              "                         -4.6838e-02, -3.7133e-02],\n",
              "                        [-1.3410e-01, -1.5006e-01,  1.0541e-03,  ...,  1.9789e-02,\n",
              "                         -5.0617e-03, -2.8954e-02]]],\n",
              "              \n",
              "              \n",
              "                      ...,\n",
              "              \n",
              "              \n",
              "                      [[[ 8.4636e-03,  1.4264e-02,  2.6113e-03,  ...,  1.6830e-02,\n",
              "                          3.4098e-03, -1.4984e-02],\n",
              "                        [ 3.1325e-03,  2.3937e-02, -1.1885e-02,  ...,  4.7151e-03,\n",
              "                         -1.0840e-03, -1.4280e-02],\n",
              "                        [-9.8450e-03,  1.0500e-02, -3.0086e-02,  ..., -1.2539e-02,\n",
              "                         -1.3848e-02, -2.5468e-02],\n",
              "                        ...,\n",
              "                        [ 1.0361e-01,  9.4164e-02,  1.3424e-01,  ...,  1.5873e-01,\n",
              "                          8.7946e-02,  7.4043e-02],\n",
              "                        [ 1.2151e-01,  8.5989e-02,  8.7468e-02,  ..., -5.6501e-02,\n",
              "                         -6.9367e-02, -5.1584e-02],\n",
              "                        [-1.1009e-01, -1.2455e-01, -1.8354e-01,  ..., -2.1110e-01,\n",
              "                         -1.8674e-01, -1.7708e-01]],\n",
              "              \n",
              "                       [[-1.2354e-02,  2.6585e-03, -9.1913e-03,  ..., -5.9563e-03,\n",
              "                         -1.3139e-02, -1.2058e-02],\n",
              "                        [ 2.2291e-04, -7.7124e-03, -3.5831e-03,  ..., -2.5115e-02,\n",
              "                         -1.6902e-02, -1.5874e-02],\n",
              "                        [-6.5501e-03, -2.9486e-04, -3.4477e-02,  ..., -1.5168e-02,\n",
              "                         -1.4872e-02, -1.8215e-02],\n",
              "                        ...,\n",
              "                        [ 1.3084e-01,  9.8864e-02,  1.5028e-01,  ...,  1.5683e-01,\n",
              "                          7.7011e-02,  9.2399e-02],\n",
              "                        [ 1.6433e-01,  1.0771e-01,  1.0603e-01,  ..., -6.0631e-02,\n",
              "                         -6.2950e-02, -3.9245e-02],\n",
              "                        [-1.3496e-01, -1.5376e-01, -2.0168e-01,  ..., -2.4291e-01,\n",
              "                         -2.0762e-01, -2.0204e-01]],\n",
              "              \n",
              "                       [[-8.0039e-03, -3.1730e-03,  1.9959e-03,  ...,  1.0583e-02,\n",
              "                          8.3945e-03,  1.0532e-02],\n",
              "                        [ 9.9880e-03,  3.0387e-03, -1.3821e-03,  ...,  9.3793e-03,\n",
              "                          5.5898e-03,  1.6218e-04],\n",
              "                        [-2.0184e-03,  3.5780e-03, -8.0598e-03,  ...,  5.7488e-03,\n",
              "                          1.9300e-02, -2.1559e-03],\n",
              "                        ...,\n",
              "                        [ 4.4551e-02,  1.3218e-03,  6.2764e-02,  ...,  7.5043e-02,\n",
              "                          4.1277e-02,  5.1080e-02],\n",
              "                        [ 1.0266e-01,  7.6080e-02,  1.1195e-01,  ...,  7.4302e-03,\n",
              "                          1.0528e-02,  1.1955e-02],\n",
              "                        [-9.7174e-02, -8.2296e-02, -1.0226e-01,  ..., -7.1369e-02,\n",
              "                         -4.7011e-02, -5.9452e-02]]],\n",
              "              \n",
              "              \n",
              "                      [[[ 1.0818e-02,  5.0894e-02, -1.1646e-02,  ...,  1.3050e-02,\n",
              "                         -1.3591e-02,  1.1014e-02],\n",
              "                        [ 6.6025e-02,  4.8594e-02,  5.1563e-02,  ...,  6.1146e-02,\n",
              "                          3.1777e-02,  5.5678e-02],\n",
              "                        [ 9.0722e-03,  1.8303e-02,  7.5528e-03,  ..., -7.1351e-03,\n",
              "                         -8.1981e-04,  7.8732e-03],\n",
              "                        ...,\n",
              "                        [-3.6651e-02, -5.1772e-02, -1.6548e-02,  ..., -2.3927e-02,\n",
              "                         -2.4283e-02, -4.3532e-02],\n",
              "                        [-6.1709e-03, -3.9175e-02,  1.3337e-02,  ..., -4.4523e-02,\n",
              "                         -1.6796e-02, -2.2848e-02],\n",
              "                        [-1.9854e-02, -3.1572e-02,  1.5275e-02,  ..., -4.3853e-02,\n",
              "                         -1.9706e-02, -5.0388e-02]],\n",
              "              \n",
              "                       [[-9.0246e-02, -5.0932e-02, -1.6223e-01,  ..., -1.1743e-01,\n",
              "                         -1.0906e-01, -4.2395e-02],\n",
              "                        [ 1.1080e-02,  2.5809e-02, -1.7428e-02,  ...,  2.0236e-02,\n",
              "                          3.8698e-03,  5.0286e-02],\n",
              "                        [-9.3961e-02, -4.6752e-02, -1.0906e-01,  ..., -8.9780e-02,\n",
              "                         -7.8237e-02, -7.1281e-02],\n",
              "                        ...,\n",
              "                        [ 3.3021e-02,  1.5510e-02,  4.9838e-02,  ...,  3.0980e-02,\n",
              "                          4.9966e-02,  2.5632e-02],\n",
              "                        [ 1.0000e-01,  6.3640e-02,  1.1541e-01,  ...,  9.3333e-02,\n",
              "                          1.0780e-01,  1.0097e-01],\n",
              "                        [-1.5270e-02, -1.1603e-02,  4.7559e-02,  ...,  2.5611e-02,\n",
              "                          5.3690e-02, -1.0264e-03]],\n",
              "              \n",
              "                       [[-1.5214e-01, -9.3625e-02, -2.2390e-01,  ..., -1.4702e-01,\n",
              "                         -1.6153e-01, -7.4347e-02],\n",
              "                        [-1.9102e-03,  3.6912e-02, -2.9802e-02,  ...,  3.3109e-02,\n",
              "                          4.7370e-03,  6.2750e-02],\n",
              "                        [-1.8603e-01, -1.0196e-01, -1.8446e-01,  ..., -1.5882e-01,\n",
              "                         -1.4925e-01, -1.3409e-01],\n",
              "                        ...,\n",
              "                        [ 4.4950e-02,  8.5948e-03,  6.4930e-02,  ...,  3.9087e-02,\n",
              "                          6.1417e-02,  2.7725e-02],\n",
              "                        [ 1.2140e-01,  8.1665e-02,  1.5341e-01,  ...,  1.3049e-01,\n",
              "                          1.4665e-01,  1.3486e-01],\n",
              "                        [-6.4411e-03, -3.0657e-02,  6.8848e-02,  ...,  7.4778e-02,\n",
              "                          1.1511e-01,  3.1719e-02]]],\n",
              "              \n",
              "              \n",
              "                      [[[-9.3728e-02,  5.9039e-02,  1.4096e-01,  ..., -1.1404e-02,\n",
              "                          1.6943e-02,  1.6088e-03],\n",
              "                        [ 6.6705e-02,  1.3042e-01, -1.2034e-01,  ...,  8.0689e-02,\n",
              "                         -3.6992e-03, -1.6062e-02],\n",
              "                        [ 1.1080e-01, -1.2949e-01, -1.8723e-01,  ..., -4.9686e-02,\n",
              "                         -7.7772e-02,  4.5023e-02],\n",
              "                        ...,\n",
              "                        [-1.8437e-01,  1.7337e-02,  3.4100e-01,  ...,  2.8706e-01,\n",
              "                          1.1662e-01, -1.6079e-01],\n",
              "                        [ 7.2670e-02,  1.4501e-01,  1.3785e-02,  ..., -6.9269e-02,\n",
              "                         -2.3968e-01, -6.8623e-02],\n",
              "                        [ 8.0119e-03, -6.6385e-02, -8.8813e-02,  ..., -9.8796e-02,\n",
              "                          9.7206e-02,  1.1191e-01]],\n",
              "              \n",
              "                       [[-9.9561e-02,  6.4294e-02,  1.1483e-01,  ..., -1.4043e-02,\n",
              "                          2.2232e-02,  3.1625e-04],\n",
              "                        [ 8.7208e-02,  1.0680e-01, -1.5141e-01,  ...,  1.0755e-01,\n",
              "                          1.6569e-02, -1.8046e-02],\n",
              "                        [ 1.1955e-01, -1.6334e-01, -1.8103e-01,  ..., -6.4724e-02,\n",
              "                         -9.1455e-02,  4.8906e-02],\n",
              "                        ...,\n",
              "                        [-1.8613e-01,  7.1609e-02,  4.8783e-01,  ...,  3.2533e-01,\n",
              "                          1.7338e-01, -1.2457e-01],\n",
              "                        [ 1.1876e-01,  2.1722e-01,  5.4891e-02,  ...,  4.1773e-03,\n",
              "                         -2.1717e-01, -5.5130e-02],\n",
              "                        [ 2.2734e-02, -8.6192e-02, -1.5107e-01,  ..., -6.9734e-02,\n",
              "                          9.1399e-02,  1.3106e-01]],\n",
              "              \n",
              "                       [[-1.1562e-01,  4.6789e-02,  1.2031e-01,  ..., -5.0680e-02,\n",
              "                          4.6830e-03, -1.1368e-02],\n",
              "                        [ 5.2426e-02,  1.0063e-01, -1.4280e-01,  ...,  9.5661e-02,\n",
              "                          1.3088e-02, -8.0297e-03],\n",
              "                        [ 1.0114e-01, -1.1242e-01, -1.7086e-01,  ..., -5.2926e-02,\n",
              "                         -9.3061e-02,  4.4008e-02],\n",
              "                        ...,\n",
              "                        [-1.8864e-01,  4.8968e-02,  3.8966e-01,  ...,  2.4444e-01,\n",
              "                          1.0393e-01, -1.2995e-01],\n",
              "                        [ 8.3515e-02,  1.8294e-01,  4.8461e-02,  ..., -4.5435e-02,\n",
              "                         -2.1300e-01, -3.8749e-02],\n",
              "                        [ 3.6480e-02, -8.0003e-02, -1.3626e-01,  ..., -4.6209e-02,\n",
              "                          1.0337e-01,  9.3483e-02]]]], device='cuda:0')),\n",
              "             ('features.0.bias',\n",
              "              tensor([-9.8858e-01, -2.8064e+00, -1.6715e-02, -9.1978e-02, -9.8095e-02,\n",
              "                      -1.3527e-05, -8.6347e-02, -1.4332e+00,  1.6894e+00, -1.0111e-01,\n",
              "                      -3.8930e-02, -1.5841e-01, -9.0360e-02, -6.4190e-02, -1.1310e-01,\n",
              "                      -1.3015e+00, -5.4776e-02, -1.6771e-02, -1.1711e-01, -1.1888e+00,\n",
              "                      -1.5199e-01, -4.4068e-02, -1.0427e-01, -6.4682e-02, -1.0683e-01,\n",
              "                      -8.2576e-02, -1.9468e+00, -7.0172e-02, -1.5530e-01, -2.2605e-01,\n",
              "                      -1.4411e-01, -2.0473e+00, -5.9370e-02, -7.0625e-02, -4.5441e-02,\n",
              "                      -3.9006e-01, -2.7818e+00,  6.6235e-01, -1.7252e-01, -2.1515e+00,\n",
              "                       5.8678e-02, -4.3177e-02, -1.7346e-01, -9.4310e-02, -4.2761e-01,\n",
              "                      -1.9474e+00, -1.2118e+00,  6.1179e-03, -1.2503e-01, -1.0730e-02,\n",
              "                      -1.6622e-01, -1.8713e+00, -6.4677e-02, -1.7899e-02, -8.3701e-02,\n",
              "                      -7.3614e-02, -8.4392e-02, -8.9399e-02, -1.2725e+00, -1.5218e-01,\n",
              "                      -4.3506e-02, -3.4808e-01,  2.2578e-02, -1.0006e-02], device='cuda:0')),\n",
              "             ('features.3.weight',\n",
              "              tensor([[[[ 2.2856e-03,  4.9529e-03,  4.2137e-02, -2.1430e-02, -3.0330e-03],\n",
              "                        [ 2.3657e-02, -1.1991e-02,  7.0208e-02, -8.7884e-02,  1.0356e-02],\n",
              "                        [ 1.9800e-02, -1.0517e-01,  2.4087e-02, -6.7202e-02,  2.9605e-02],\n",
              "                        [-9.0134e-03, -3.2930e-02, -4.3735e-02,  2.1317e-02, -3.9198e-03],\n",
              "                        [-1.8132e-02,  9.5684e-03,  2.8756e-02,  1.1527e-02, -9.0090e-03]],\n",
              "              \n",
              "                       [[-6.5539e-03, -1.9390e-02, -3.3778e-02, -2.2701e-02, -1.2870e-02],\n",
              "                        [-7.9173e-03,  3.0436e-02,  2.9609e-02, -9.7697e-03, -1.6216e-02],\n",
              "                        [ 3.5570e-03,  7.9734e-02,  5.9315e-02,  1.2920e-02,  2.5023e-02],\n",
              "                        [-2.7300e-02,  6.0977e-03,  3.7786e-02, -6.0479e-03,  3.1522e-03],\n",
              "                        [ 2.1874e-03, -3.6877e-02, -2.9269e-03, -1.7692e-02,  5.9244e-03]],\n",
              "              \n",
              "                       [[-1.3077e-02, -6.2037e-02, -9.2721e-02,  2.3280e-02,  5.1557e-02],\n",
              "                        [-1.4867e-02, -1.1334e-01, -2.1731e-02,  3.6266e-02,  4.4365e-02],\n",
              "                        [-1.2840e-02,  4.5080e-02,  2.2797e-01,  3.4660e-02, -5.6614e-02],\n",
              "                        [ 1.3061e-02,  1.0412e-01,  3.2717e-02, -1.3574e-01, -2.9630e-02],\n",
              "                        [ 3.9293e-02,  5.0466e-02, -7.0815e-03, -8.0208e-02,  1.5337e-02]],\n",
              "              \n",
              "                       ...,\n",
              "              \n",
              "                       [[-1.2356e-02,  2.8877e-02,  4.4606e-02, -1.5970e-02, -2.3818e-03],\n",
              "                        [-1.1228e-02,  1.5178e-02,  7.5856e-02, -6.3979e-02, -5.2519e-02],\n",
              "                        [-1.5271e-02, -5.4640e-02,  1.1041e-01,  5.8925e-03, -5.6265e-02],\n",
              "                        [ 2.3423e-04,  2.7048e-02,  6.2675e-02,  5.4767e-02, -1.7984e-02],\n",
              "                        [-8.7625e-03,  5.8256e-03, -3.2367e-02, -5.5459e-03, -3.9212e-03]],\n",
              "              \n",
              "                       [[ 7.9976e-04, -6.3113e-04,  5.6060e-02,  2.2641e-02, -4.1449e-02],\n",
              "                        [-5.3507e-03, -3.3973e-02,  3.7220e-02, -1.2739e-02,  2.0298e-02],\n",
              "                        [ 1.9104e-02,  6.7268e-03, -4.8377e-02, -6.2362e-02,  2.3815e-02],\n",
              "                        [ 3.4366e-03,  4.7399e-02,  2.6039e-02,  1.9875e-02,  3.0710e-02],\n",
              "                        [-3.1521e-02,  7.1826e-04,  5.6256e-02,  3.6438e-02, -4.5351e-03]],\n",
              "              \n",
              "                       [[ 2.0495e-04,  1.3431e-02, -3.9433e-02, -8.7249e-02,  3.9936e-02],\n",
              "                        [ 3.3302e-02,  2.0483e-02,  1.4722e-01, -1.5888e-01, -1.1641e-01],\n",
              "                        [ 1.1442e-02, -1.3176e-01,  2.5436e-01,  2.0048e-01, -1.4689e-01],\n",
              "                        [ 2.7055e-02, -7.7796e-02, -1.3128e-01,  1.2581e-01,  2.6787e-02],\n",
              "                        [ 4.4284e-02,  7.3900e-02, -4.5116e-02, -5.6261e-03,  1.2092e-02]]],\n",
              "              \n",
              "              \n",
              "                      [[[ 2.0391e-02, -4.4162e-02,  3.4547e-02,  6.1493e-03,  2.4574e-02],\n",
              "                        [ 2.0900e-02, -4.8257e-02, -6.3087e-02, -3.2453e-02,  1.9211e-02],\n",
              "                        [ 1.1245e-02, -2.5137e-02, -1.8866e-01, -1.8352e-02, -2.5636e-02],\n",
              "                        [-1.3992e-02,  5.9862e-02, -4.6582e-02,  2.9512e-03, -4.3462e-03],\n",
              "                        [ 1.6763e-02,  2.6874e-02, -2.4166e-02, -3.3584e-03, -9.8005e-03]],\n",
              "              \n",
              "                       [[ 2.9304e-03,  4.5111e-03, -4.4242e-02,  2.8549e-02, -1.9732e-02],\n",
              "                        [ 1.0239e-02,  3.8697e-02, -4.4008e-02,  6.4343e-03, -2.7993e-02],\n",
              "                        [-1.0026e-02,  5.2902e-02,  2.3102e-02,  5.3977e-03,  2.3989e-02],\n",
              "                        [-9.8363e-03, -3.7812e-02,  1.1054e-02, -1.4140e-02, -2.1692e-02],\n",
              "                        [ 8.9657e-04, -6.2422e-02,  5.8131e-02,  2.9337e-02, -3.3630e-03]],\n",
              "              \n",
              "                       [[-4.4857e-02,  1.0163e-01,  2.3545e-02, -8.9532e-03,  1.7670e-02],\n",
              "                        [-1.0951e-01,  1.1161e-01,  1.2912e-01, -9.3115e-03,  2.4935e-02],\n",
              "                        [-8.7551e-02,  5.8504e-02,  2.9336e-01,  7.4962e-03,  4.8820e-02],\n",
              "                        [ 2.1445e-02, -9.1480e-02,  1.7542e-01,  1.6572e-02, -2.8828e-02],\n",
              "                        [ 3.1544e-02, -1.4957e-01,  9.9691e-02,  7.9317e-02, -1.0449e-02]],\n",
              "              \n",
              "                       ...,\n",
              "              \n",
              "                       [[ 3.3302e-03,  5.9209e-03,  2.5580e-02, -6.8157e-03, -2.2519e-02],\n",
              "                        [ 3.3334e-03,  4.6426e-02,  3.3484e-02,  5.3300e-02, -1.4044e-02],\n",
              "                        [-1.4495e-02,  6.0991e-02,  2.7205e-03,  3.2985e-02, -3.1315e-03],\n",
              "                        [-2.9357e-02,  5.0774e-02,  5.3793e-02, -8.3296e-03,  2.0496e-03],\n",
              "                        [-2.4376e-02, -5.7189e-03,  4.0017e-02, -8.2199e-03, -8.2755e-04]],\n",
              "              \n",
              "                       [[ 1.3605e-02, -1.3178e-02, -3.1560e-02,  2.7634e-03, -1.4859e-02],\n",
              "                        [ 6.2094e-03, -3.3463e-02, -6.0657e-02,  3.5666e-02, -4.7215e-03],\n",
              "                        [ 9.4537e-03, -6.6836e-02, -9.7545e-02,  1.4970e-03,  1.4041e-02],\n",
              "                        [-2.5226e-02, -5.2419e-02, -1.8840e-02,  3.7850e-04, -1.1071e-02],\n",
              "                        [ 1.0594e-02,  1.8005e-02,  1.0602e-02, -3.4118e-02,  1.5594e-02]],\n",
              "              \n",
              "                       [[-2.5976e-03, -2.1280e-03,  1.8150e-02,  1.6079e-03,  4.7799e-03],\n",
              "                        [-8.7242e-03,  3.0596e-02, -2.6737e-02,  1.3332e-02,  3.4084e-03],\n",
              "                        [-9.1875e-03,  6.9723e-02, -2.9345e-02,  4.9495e-02,  2.5336e-02],\n",
              "                        [-1.7899e-02,  3.5605e-02,  3.1361e-02,  1.9535e-03, -9.5827e-03],\n",
              "                        [ 5.3392e-03,  2.6809e-02,  5.1643e-02, -3.4510e-02, -1.5541e-02]]],\n",
              "              \n",
              "              \n",
              "                      [[[-1.5286e-02, -4.0084e-02, -5.1980e-02, -1.4158e-02,  3.3646e-02],\n",
              "                        [ 1.4343e-01, -6.6941e-02, -4.0431e-02, -1.2212e-02,  2.0485e-02],\n",
              "                        [ 1.7548e-02, -3.6598e-02, -1.2880e-02,  1.0484e-02,  2.3841e-02],\n",
              "                        [-6.9884e-03,  2.8752e-04,  1.2611e-03,  1.1023e-03, -9.4635e-03],\n",
              "                        [ 1.9376e-02, -6.4770e-03,  2.5566e-02,  2.7784e-02, -1.6435e-03]],\n",
              "              \n",
              "                       [[ 2.1173e-02, -3.4426e-02, -1.9712e-02,  3.7262e-03,  1.5135e-03],\n",
              "                        [ 3.7466e-02, -9.0227e-02, -5.5464e-02, -2.6028e-02,  1.5093e-02],\n",
              "                        [ 5.4730e-02, -7.3056e-02, -6.7133e-02, -3.9372e-02,  4.5301e-03],\n",
              "                        [ 2.9978e-02, -6.3708e-02, -7.6449e-02, -3.6209e-02, -1.1714e-02],\n",
              "                        [ 4.3439e-02, -9.7149e-03, -2.2697e-02, -1.6411e-02, -1.0978e-03]],\n",
              "              \n",
              "                       [[-1.5316e-02, -2.6787e-02, -1.6191e-02, -8.9339e-03, -3.1877e-02],\n",
              "                        [ 1.5539e-01, -3.3284e-02, -2.6335e-02, -1.1753e-02, -2.7239e-02],\n",
              "                        [ 8.3292e-02, -3.1245e-02, -4.0128e-02, -1.0433e-02, -5.2215e-03],\n",
              "                        [-5.0159e-02, -2.0480e-02, -7.5827e-03,  1.4759e-02,  9.2253e-03],\n",
              "                        [-2.4786e-02, -4.3005e-03,  9.6731e-03, -1.2607e-03, -1.0289e-02]],\n",
              "              \n",
              "                       ...,\n",
              "              \n",
              "                       [[ 1.9599e-02,  2.6899e-03, -1.0176e-02, -1.2437e-02,  4.2165e-03],\n",
              "                        [ 1.4085e-01,  1.3825e-02, -1.2270e-02, -6.5999e-03, -5.8648e-03],\n",
              "                        [ 1.3915e-02, -2.6919e-02, -2.7084e-02,  3.4248e-03,  1.3891e-02],\n",
              "                        [ 8.3298e-03, -3.7666e-03,  1.1821e-02, -4.6586e-03, -2.4748e-03],\n",
              "                        [-3.7968e-03, -2.3386e-02, -6.3014e-03, -3.2919e-03, -1.4152e-02]],\n",
              "              \n",
              "                       [[-2.6687e-02, -2.9338e-03, -1.3895e-02, -1.5775e-02,  2.4284e-03],\n",
              "                        [ 7.6172e-02, -9.0893e-02, -2.8220e-02,  2.2445e-02,  8.3749e-03],\n",
              "                        [ 1.1532e-02, -5.4273e-02, -3.2630e-02, -6.0612e-03,  7.5618e-03],\n",
              "                        [ 6.6782e-03, -1.8358e-03, -9.3405e-03, -2.5871e-02, -2.5584e-03],\n",
              "                        [ 4.7106e-03, -2.0568e-02, -3.4805e-02, -1.1577e-02, -8.0673e-03]],\n",
              "              \n",
              "                       [[-1.9694e-02,  4.7564e-03,  8.1177e-03, -1.8382e-02, -1.0396e-02],\n",
              "                        [ 6.0017e-02, -3.4380e-02,  2.9511e-03,  1.1403e-02, -9.4885e-03],\n",
              "                        [ 5.0007e-03, -6.3312e-02, -1.3206e-02,  1.5357e-03, -1.7443e-02],\n",
              "                        [-1.9732e-02, -9.5575e-04, -2.6044e-02, -1.2300e-02, -9.2674e-03],\n",
              "                        [ 3.5843e-03,  4.1563e-03, -2.2115e-02, -1.0434e-02,  3.9696e-03]]],\n",
              "              \n",
              "              \n",
              "                      ...,\n",
              "              \n",
              "              \n",
              "                      [[[ 2.2179e-02,  1.4185e-02,  4.5911e-02, -1.4150e-03, -2.1610e-02],\n",
              "                        [-1.1926e-02, -2.8769e-02,  1.4405e-02, -1.2486e-02, -2.9747e-02],\n",
              "                        [-2.7578e-02, -3.0022e-02, -3.4423e-02, -2.2280e-02, -3.1899e-02],\n",
              "                        [-2.1778e-03, -8.3465e-04, -9.5982e-03, -1.0436e-02, -3.6280e-03],\n",
              "                        [ 1.1040e-02,  9.0020e-03,  1.7264e-02,  5.3636e-03, -2.1715e-03]],\n",
              "              \n",
              "                       [[-9.2761e-03,  6.8746e-04, -2.4334e-02, -1.7408e-02, -7.1585e-03],\n",
              "                        [-1.5262e-02,  1.7391e-02,  1.3050e-02,  7.1788e-02,  5.8870e-02],\n",
              "                        [-1.0914e-02,  1.4533e-02, -2.6136e-02, -4.1478e-03, -2.6308e-02],\n",
              "                        [ 2.6629e-03,  1.7003e-02, -3.2155e-02, -5.5645e-02, -4.0382e-02],\n",
              "                        [ 4.2167e-04,  2.1576e-02, -2.0665e-03, -2.1723e-02, -1.0276e-02]],\n",
              "              \n",
              "                       [[-2.6449e-02, -4.7208e-02, -1.1461e-01, -6.3848e-02,  1.9976e-02],\n",
              "                        [-3.1879e-02, -4.7514e-02, -5.0107e-02,  3.9853e-02,  8.2367e-02],\n",
              "                        [ 2.4055e-02,  2.8353e-02,  5.7506e-02,  4.2745e-02, -2.6861e-02],\n",
              "                        [ 2.5352e-02,  2.0353e-02,  4.0526e-02, -8.7438e-03, -6.3454e-02],\n",
              "                        [ 9.1645e-03,  1.1759e-02,  3.2104e-02,  1.0308e-02, -2.6605e-02]],\n",
              "              \n",
              "                       ...,\n",
              "              \n",
              "                       [[-1.2972e-02, -2.3860e-02, -3.1294e-02,  5.3153e-02,  1.7704e-02],\n",
              "                        [-5.2415e-02, -6.2732e-02, -5.4836e-02,  6.4071e-02,  2.9191e-02],\n",
              "                        [ 1.9200e-02,  1.4898e-02, -3.7486e-02,  2.4798e-03,  1.2595e-02],\n",
              "                        [ 1.5991e-02,  1.5189e-02, -1.9669e-02, -2.6714e-02,  2.8079e-02],\n",
              "                        [-1.0173e-03,  1.6091e-02,  6.2711e-03, -2.4483e-02, -1.2406e-03]],\n",
              "              \n",
              "                       [[-3.1128e-02,  1.3485e-02,  2.8307e-02, -8.4521e-03, -8.3396e-04],\n",
              "                        [-3.6375e-02,  5.3503e-04,  9.5170e-03, -8.1803e-02, -5.2429e-02],\n",
              "                        [-3.3416e-02,  3.1472e-02,  2.1375e-02, -5.7262e-03,  2.6488e-02],\n",
              "                        [ 1.8344e-02,  4.4031e-03, -1.5976e-02,  3.4637e-03,  1.3707e-02],\n",
              "                        [-2.5959e-02,  3.5950e-03, -1.5157e-02,  4.3200e-02,  6.5564e-02]],\n",
              "              \n",
              "                       [[ 4.8474e-02,  3.0797e-02, -2.3493e-02,  4.4223e-03, -7.7039e-02],\n",
              "                        [ 7.8594e-02,  4.6949e-02, -5.8990e-02,  1.8456e-02,  9.9126e-02],\n",
              "                        [ 5.8483e-02,  3.8806e-02, -7.0220e-02, -1.0461e-01, -2.2335e-02],\n",
              "                        [ 4.2673e-02,  5.9015e-02,  6.3372e-02,  3.4222e-03, -5.9756e-02],\n",
              "                        [-7.8247e-04,  2.6881e-02,  4.1569e-02,  2.9363e-02, -8.1149e-03]]],\n",
              "              \n",
              "              \n",
              "                      [[[ 2.8778e-02, -2.4080e-02, -2.6542e-02, -6.0665e-02, -2.3852e-02],\n",
              "                        [ 6.9262e-03, -4.2211e-02, -9.6784e-02, -1.1472e-01, -4.8717e-02],\n",
              "                        [-3.2958e-02, -1.7820e-02, -9.1531e-02, -1.0871e-01, -5.5039e-02],\n",
              "                        [-9.9869e-03, -1.4637e-03, -2.7755e-02, -4.9456e-02, -4.4066e-02],\n",
              "                        [ 1.9155e-03, -1.7545e-02, -3.2185e-02, -1.4935e-02, -3.0977e-02]],\n",
              "              \n",
              "                       [[ 7.3412e-02,  1.7388e-02, -1.5735e-01, -8.8532e-02, -2.0631e-02],\n",
              "                        [ 9.4109e-02,  8.6974e-02, -6.8451e-02, -7.7977e-02, -9.2254e-02],\n",
              "                        [ 1.1833e-01,  1.4548e-01,  1.5512e-02, -6.6345e-02, -1.8582e-01],\n",
              "                        [ 4.2162e-02,  9.0784e-02,  4.4275e-02, -8.1289e-03, -1.2303e-01],\n",
              "                        [ 2.2343e-02,  6.7581e-02,  9.7887e-02,  5.9150e-02, -7.2148e-02]],\n",
              "              \n",
              "                       [[-4.2083e-02, -1.3454e-02, -7.1477e-03,  1.0744e-02,  6.4205e-02],\n",
              "                        [-8.2859e-03, -1.4523e-02, -3.5262e-02,  1.6154e-03,  3.5805e-02],\n",
              "                        [ 3.2796e-02,  4.5108e-02,  2.5159e-02, -6.3489e-02, -2.4263e-02],\n",
              "                        [-1.7773e-02,  5.9007e-03,  4.3352e-02, -4.3369e-02, -7.9083e-02],\n",
              "                        [ 8.1648e-03, -3.1052e-04,  2.8430e-02, -3.3754e-02, -8.8076e-02]],\n",
              "              \n",
              "                       ...,\n",
              "              \n",
              "                       [[-1.3739e-02, -1.6499e-02,  1.5448e-02,  3.4066e-02,  1.6457e-02],\n",
              "                        [-1.4293e-03, -2.1499e-02, -3.8668e-02,  2.9599e-02,  4.8598e-02],\n",
              "                        [-2.2428e-02, -4.1189e-02, -8.4492e-02, -1.0472e-02,  6.2740e-02],\n",
              "                        [-1.8090e-03,  1.9232e-02, -3.3749e-03, -1.8984e-02,  6.2094e-03],\n",
              "                        [-7.5254e-03, -5.9306e-03,  5.4114e-03, -3.3632e-04,  2.2796e-02]],\n",
              "              \n",
              "                       [[-2.8959e-02, -6.1913e-02, -4.2771e-02,  3.1642e-02,  5.1504e-02],\n",
              "                        [ 2.9160e-02, -4.2607e-03, -1.4260e-01, -2.9534e-02, -7.7771e-04],\n",
              "                        [ 5.5596e-02,  6.4771e-02, -2.8184e-02, -1.1140e-01, -3.5756e-02],\n",
              "                        [ 2.1307e-02,  3.9143e-02,  8.0705e-02, -1.1711e-02, -5.8375e-02],\n",
              "                        [ 4.7941e-02, -1.2432e-02,  4.4371e-02,  3.5381e-02, -2.9842e-02]],\n",
              "              \n",
              "                       [[ 9.6470e-03,  2.5734e-04,  8.4090e-03,  2.4166e-02,  5.0159e-03],\n",
              "                        [ 9.9574e-03, -5.7027e-03, -1.1466e-02,  1.5658e-02,  1.9446e-02],\n",
              "                        [ 2.6894e-02, -7.9919e-04, -1.8856e-02, -4.7690e-03,  2.6825e-02],\n",
              "                        [ 1.8485e-02,  2.8385e-02, -2.0291e-03, -1.1657e-02,  9.2153e-03],\n",
              "                        [ 2.8666e-03, -6.6412e-03, -1.8906e-04, -2.8807e-02, -2.5153e-02]]],\n",
              "              \n",
              "              \n",
              "                      [[[ 6.6496e-03, -2.1342e-02, -1.9377e-02, -2.8408e-03,  9.4872e-03],\n",
              "                        [-2.2982e-02, -3.7544e-02, -3.3757e-02, -2.0642e-02, -1.1834e-02],\n",
              "                        [-8.4958e-03, -3.3224e-02, -5.5910e-02, -3.5029e-02, -1.5181e-02],\n",
              "                        [-1.3292e-02, -3.5723e-02, -4.2791e-02, -1.7325e-02, -1.9233e-02],\n",
              "                        [-3.5028e-03,  4.6874e-03, -3.6761e-03,  1.0614e-02,  9.7025e-03]],\n",
              "              \n",
              "                       [[ 1.8367e-02,  2.3716e-02,  1.8081e-02, -2.6348e-03,  2.9234e-02],\n",
              "                        [-9.0725e-03, -2.0273e-02, -2.0969e-02, -1.5242e-02, -4.4449e-03],\n",
              "                        [-2.5431e-02, -3.6450e-02,  1.0803e-02, -1.3916e-02,  1.0314e-02],\n",
              "                        [-1.4480e-03, -1.7014e-02,  1.9687e-02,  6.2198e-03,  4.5036e-03],\n",
              "                        [ 1.0848e-02,  1.3009e-02,  4.2513e-02,  1.5934e-02,  1.6612e-02]],\n",
              "              \n",
              "                       [[-4.9594e-03,  1.3835e-02,  6.1349e-03, -1.1506e-02,  2.0106e-02],\n",
              "                        [-2.2517e-02, -6.9891e-03, -3.5585e-02, -2.3469e-02, -2.8231e-03],\n",
              "                        [-6.6014e-03,  1.1503e-02, -2.3132e-04, -8.0183e-03,  8.3097e-03],\n",
              "                        [ 1.0844e-02,  1.8241e-03, -7.4111e-03,  3.0408e-03,  1.2421e-02],\n",
              "                        [ 1.2127e-02, -4.0803e-03,  1.7455e-02, -3.1207e-03, -1.1286e-02]],\n",
              "              \n",
              "                       ...,\n",
              "              \n",
              "                       [[-6.5085e-03, -3.2985e-02, -1.5895e-02, -1.7956e-02,  2.0750e-03],\n",
              "                        [-5.5200e-02, -5.6189e-02, -4.6852e-02, -5.7227e-02, -3.7648e-02],\n",
              "                        [ 2.4892e-02,  2.5884e-02,  4.1250e-02,  1.9296e-02,  3.1636e-02],\n",
              "                        [ 1.5344e-02,  1.5868e-02,  5.4760e-02,  1.7737e-02,  2.2652e-02],\n",
              "                        [-2.7789e-03, -8.1177e-03, -1.7172e-04,  6.9553e-03,  9.1973e-03]],\n",
              "              \n",
              "                       [[ 1.9006e-02,  1.9552e-02,  7.5674e-02,  2.8733e-02,  4.1157e-02],\n",
              "                        [-3.2416e-03,  5.3441e-02,  1.3107e-01,  6.7533e-02,  4.0891e-02],\n",
              "                        [-5.2032e-03,  3.3752e-02,  1.2647e-01,  6.0396e-02,  2.8154e-02],\n",
              "                        [ 2.4883e-02,  3.6686e-02,  1.2980e-01,  3.0586e-02, -2.0097e-02],\n",
              "                        [-1.9947e-02, -1.4176e-02, -1.1703e-02, -1.4055e-02, -3.7451e-03]],\n",
              "              \n",
              "                       [[ 6.9331e-02,  2.0646e-02, -9.8491e-03, -9.3194e-03, -5.7970e-03],\n",
              "                        [ 3.0329e-02, -1.0513e-02, -5.8957e-02, -3.8828e-02, -2.0193e-02],\n",
              "                        [-8.1000e-03, -4.4465e-02, -8.6502e-02, -5.5131e-02, -1.9215e-02],\n",
              "                        [-5.9139e-03, -4.2530e-02, -7.0648e-02, -3.9356e-02,  2.4992e-03],\n",
              "                        [ 4.8966e-02,  7.8965e-03, -2.0882e-02,  1.6794e-02,  2.2359e-02]]]],\n",
              "                     device='cuda:0')),\n",
              "             ('features.3.bias',\n",
              "              tensor([-0.1140, -0.1716, -0.0530, -0.0662, -0.0404,  0.1764, -0.1852,  0.0966,\n",
              "                      -0.0209, -0.0300,  0.1356, -0.3164, -0.1481,  0.1280,  0.0033, -0.0590,\n",
              "                      -0.0007,  0.2075,  0.3302,  0.0715,  0.5016, -0.0436, -0.0816,  0.0161,\n",
              "                      -0.0466,  0.0567,  0.0196,  0.0060, -0.1836, -0.0015, -0.1301, -0.1282,\n",
              "                       0.0064, -0.4333,  0.1160, -0.1632, -0.0610, -0.2338,  0.2425, -0.0801,\n",
              "                       0.0186, -0.0252, -0.0466,  0.0268, -0.1773,  0.0717, -0.0601,  0.1181,\n",
              "                      -0.0602, -0.1727, -0.1307,  0.0517,  0.0417,  0.0942,  0.0113,  0.1356,\n",
              "                      -0.1381,  0.2478,  0.1450,  0.4874, -0.1214, -0.1580,  0.1610,  0.2273,\n",
              "                       0.0972,  0.0282, -0.1778, -0.0972,  0.2322, -0.2488,  0.1037, -0.2459,\n",
              "                      -0.0541, -0.0305, -0.3502,  0.0392, -0.2365,  0.1856,  0.1607,  0.2994,\n",
              "                      -0.1385,  0.0054, -0.1711, -0.0751, -0.1172,  0.0671, -0.0993, -0.0923,\n",
              "                      -0.1666,  0.0622,  0.1028, -0.0072, -0.1739, -0.0061, -0.1220, -0.1890,\n",
              "                      -0.0581, -0.0669, -0.1492,  0.0238,  0.0411, -0.2205, -0.1510, -0.0871,\n",
              "                      -0.0671, -0.0818, -0.0433,  0.3690, -0.1828,  0.0596, -0.4814, -0.2198,\n",
              "                      -0.0685, -0.1007, -0.0451,  0.0900, -0.1361, -0.1839, -0.0407, -0.2973,\n",
              "                      -0.1377,  0.1428,  0.2953,  0.2770, -0.0462,  0.3745,  0.0891, -0.0212,\n",
              "                       0.2078,  0.5022,  0.1492, -0.1370,  0.2192,  0.2338,  0.1466, -0.0828,\n",
              "                      -0.0345, -0.1237,  0.1143,  0.3967, -0.0384, -0.1808,  0.3164, -0.0386,\n",
              "                       0.3303,  0.0078, -0.4231, -0.1967,  0.0484,  0.0141,  0.0430,  0.1485,\n",
              "                      -0.1571, -0.1630,  0.4956, -0.1471,  0.1295, -0.0314, -0.0324, -0.3100,\n",
              "                       0.3012, -0.0846,  0.1510, -0.0257,  0.1753,  0.2099,  0.1049, -0.1464,\n",
              "                      -0.1637, -0.0290, -0.0675,  0.4933,  0.1725,  0.1881, -0.0895,  0.1455,\n",
              "                       0.0557, -0.1318, -0.0868, -0.0407, -0.2364, -0.0814, -0.0991,  0.1467,\n",
              "                      -0.0013,  0.2885,  0.0960,  0.1211, -0.1287,  0.0713,  0.0143,  0.0685],\n",
              "                     device='cuda:0')),\n",
              "             ('features.6.weight',\n",
              "              tensor([[[[ 2.6407e-02,  1.5481e-02,  3.0803e-02],\n",
              "                        [ 4.1143e-02,  5.8282e-02, -6.3817e-03],\n",
              "                        [-5.3795e-03,  8.3829e-03, -1.5464e-02]],\n",
              "              \n",
              "                       [[-4.1524e-03, -7.9333e-02, -5.3416e-02],\n",
              "                        [ 2.6527e-02, -5.0769e-02, -3.1707e-03],\n",
              "                        [ 6.8695e-03, -4.8724e-02,  3.0234e-02]],\n",
              "              \n",
              "                       [[ 1.5581e-02, -1.2083e-02,  1.6644e-02],\n",
              "                        [ 5.1483e-02, -7.6241e-03,  2.5079e-02],\n",
              "                        [ 8.3160e-03, -4.3368e-02, -2.9533e-02]],\n",
              "              \n",
              "                       ...,\n",
              "              \n",
              "                       [[ 9.6890e-04,  2.4086e-02,  3.5915e-02],\n",
              "                        [-2.3074e-02, -3.5509e-02,  1.8338e-03],\n",
              "                        [ 2.0318e-02, -3.0718e-02, -3.6490e-02]],\n",
              "              \n",
              "                       [[ 1.2470e-02, -2.0027e-02, -5.4185e-02],\n",
              "                        [-5.8611e-04, -1.6000e-02, -2.3709e-02],\n",
              "                        [-6.8825e-03,  2.3429e-02,  1.3710e-02]],\n",
              "              \n",
              "                       [[ 3.0369e-02,  7.5196e-03,  4.8196e-04],\n",
              "                        [-4.9279e-03, -1.3163e-02, -6.8097e-03],\n",
              "                        [-1.0223e-02, -1.5909e-02,  1.8966e-02]]],\n",
              "              \n",
              "              \n",
              "                      [[[ 1.6067e-02, -3.8838e-02,  1.8471e-02],\n",
              "                        [ 5.6847e-02,  1.8652e-02,  2.3854e-02],\n",
              "                        [-2.0687e-02, -1.9400e-02, -1.5761e-02]],\n",
              "              \n",
              "                       [[-1.8994e-02,  7.3765e-03,  1.4932e-02],\n",
              "                        [-3.7284e-04, -2.1138e-02, -2.2235e-02],\n",
              "                        [ 5.3384e-02, -4.4352e-02, -1.7373e-02]],\n",
              "              \n",
              "                       [[ 7.8334e-03, -1.2018e-02, -2.7195e-02],\n",
              "                        [ 2.3402e-03, -7.4532e-03, -5.2747e-02],\n",
              "                        [-2.7507e-02, -8.4873e-02, -6.5904e-02]],\n",
              "              \n",
              "                       ...,\n",
              "              \n",
              "                       [[ 1.2004e-02,  2.1508e-02,  2.3602e-03],\n",
              "                        [-2.9255e-02,  7.7096e-02, -2.0267e-02],\n",
              "                        [ 2.3954e-02,  6.2975e-02, -1.5324e-03]],\n",
              "              \n",
              "                       [[-1.7815e-02,  6.2055e-03,  3.7842e-02],\n",
              "                        [-1.5808e-02, -3.2369e-03,  3.6280e-02],\n",
              "                        [ 3.2676e-02, -1.3142e-02,  2.2645e-04]],\n",
              "              \n",
              "                       [[ 5.8096e-02,  6.5600e-02,  6.6094e-02],\n",
              "                        [-1.3143e-02, -2.2317e-02, -1.1377e-02],\n",
              "                        [ 2.3965e-03, -1.4531e-02, -8.0711e-03]]],\n",
              "              \n",
              "              \n",
              "                      [[[ 1.0893e-02,  1.1363e-02, -1.3869e-02],\n",
              "                        [ 1.7647e-02,  5.5049e-02,  4.9765e-02],\n",
              "                        [-8.6068e-03,  7.9586e-02,  2.2308e-02]],\n",
              "              \n",
              "                       [[ 1.2024e-02, -2.9461e-02, -1.0986e-02],\n",
              "                        [-2.2272e-02,  1.2247e-02,  1.2878e-02],\n",
              "                        [-1.9067e-02, -1.5543e-02, -2.5020e-02]],\n",
              "              \n",
              "                       [[-3.4336e-03, -3.5158e-03,  2.8074e-03],\n",
              "                        [ 2.3169e-02,  5.6539e-03, -4.8303e-02],\n",
              "                        [-2.8611e-02, -1.6621e-02, -6.5336e-03]],\n",
              "              \n",
              "                       ...,\n",
              "              \n",
              "                       [[ 1.2635e-02, -6.8815e-03,  4.5305e-03],\n",
              "                        [-1.9486e-03,  8.1231e-03,  4.0603e-03],\n",
              "                        [-1.5151e-02,  2.3753e-02,  4.4004e-02]],\n",
              "              \n",
              "                       [[ 1.6710e-02,  4.1193e-02,  5.0011e-02],\n",
              "                        [-1.9556e-02,  2.4331e-02,  7.5530e-02],\n",
              "                        [-1.5674e-02, -7.9914e-04,  2.5722e-02]],\n",
              "              \n",
              "                       [[-3.8486e-03,  1.6826e-02,  9.3636e-03],\n",
              "                        [ 7.7931e-03,  2.7675e-03, -3.6260e-03],\n",
              "                        [-8.7076e-04, -1.8009e-03, -8.3725e-03]]],\n",
              "              \n",
              "              \n",
              "                      ...,\n",
              "              \n",
              "              \n",
              "                      [[[-2.3237e-02,  3.1487e-02, -4.0216e-03],\n",
              "                        [-1.9420e-02, -1.0083e-02,  2.4003e-02],\n",
              "                        [-9.7591e-03, -4.1446e-02,  8.9579e-03]],\n",
              "              \n",
              "                       [[-2.2098e-02, -9.9034e-03, -1.8182e-02],\n",
              "                        [ 3.0549e-02,  1.8613e-02, -3.4822e-02],\n",
              "                        [-1.6513e-02, -2.5099e-02, -1.4940e-03]],\n",
              "              \n",
              "                       [[-4.3063e-04,  8.9177e-03,  2.7750e-02],\n",
              "                        [ 2.2046e-02,  1.1236e-02,  1.4526e-02],\n",
              "                        [ 2.4282e-02, -8.9151e-03, -4.0191e-03]],\n",
              "              \n",
              "                       ...,\n",
              "              \n",
              "                       [[-2.6957e-02,  1.6346e-02,  1.8920e-02],\n",
              "                        [ 3.8880e-02, -4.1676e-02, -2.5720e-03],\n",
              "                        [-2.5918e-02, -6.1504e-02,  1.2382e-02]],\n",
              "              \n",
              "                       [[ 1.3417e-02,  2.7467e-02, -2.1808e-02],\n",
              "                        [ 1.2733e-02,  5.3955e-02, -2.9602e-02],\n",
              "                        [ 4.3049e-02,  1.5831e-02, -3.4119e-02]],\n",
              "              \n",
              "                       [[-1.3989e-02, -1.1046e-02, -7.7469e-03],\n",
              "                        [-1.7028e-02,  1.0259e-02,  4.7361e-05],\n",
              "                        [-4.2748e-03,  2.4976e-02,  2.9561e-02]]],\n",
              "              \n",
              "              \n",
              "                      [[[ 2.0330e-02,  3.7661e-02, -8.2182e-03],\n",
              "                        [ 1.7716e-02, -3.2825e-02, -4.1570e-02],\n",
              "                        [ 5.9289e-02,  2.8043e-02,  5.0262e-02]],\n",
              "              \n",
              "                       [[ 4.7982e-02, -2.9146e-02,  9.6712e-03],\n",
              "                        [-3.1319e-02,  3.3695e-02, -2.4121e-02],\n",
              "                        [-5.9184e-02,  2.3879e-02, -5.2088e-03]],\n",
              "              \n",
              "                       [[ 1.3523e-02, -2.4977e-02,  1.0792e-02],\n",
              "                        [ 6.3277e-02, -1.0036e-02, -6.3985e-03],\n",
              "                        [ 9.1117e-03, -4.3627e-02, -3.6066e-02]],\n",
              "              \n",
              "                       ...,\n",
              "              \n",
              "                       [[ 3.9744e-02, -1.1486e-02,  5.7461e-02],\n",
              "                        [ 1.7353e-02,  2.3096e-02,  4.9359e-02],\n",
              "                        [-6.8841e-03,  1.1777e-02,  6.1922e-02]],\n",
              "              \n",
              "                       [[-2.6011e-03,  2.3684e-02,  2.1235e-02],\n",
              "                        [ 1.2263e-02,  4.8941e-02,  1.1087e-02],\n",
              "                        [ 1.3103e-02,  1.8452e-02, -1.7572e-02]],\n",
              "              \n",
              "                       [[-2.5388e-02, -1.6265e-02, -2.3392e-02],\n",
              "                        [-3.2388e-02,  5.0050e-04, -9.6158e-03],\n",
              "                        [-1.2326e-02, -3.5569e-03,  3.2355e-03]]],\n",
              "              \n",
              "              \n",
              "                      [[[-7.1574e-03, -2.6328e-02, -4.8995e-02],\n",
              "                        [ 2.2058e-02,  5.0111e-02, -2.3979e-02],\n",
              "                        [ 2.4461e-02,  1.0199e-02, -3.9624e-03]],\n",
              "              \n",
              "                       [[ 2.2166e-02, -3.0931e-02,  7.0419e-03],\n",
              "                        [ 4.7558e-03, -1.0994e-02,  1.2455e-03],\n",
              "                        [ 2.5621e-02,  1.0853e-02,  9.7335e-03]],\n",
              "              \n",
              "                       [[ 2.6573e-02,  1.1116e-02,  6.6891e-02],\n",
              "                        [ 2.7291e-02, -3.8753e-02,  1.0643e-01],\n",
              "                        [ 2.3098e-02, -3.5585e-02, -5.0847e-02]],\n",
              "              \n",
              "                       ...,\n",
              "              \n",
              "                       [[-1.9904e-03,  1.5194e-02, -1.0770e-02],\n",
              "                        [ 7.2914e-03,  1.2714e-02,  6.7435e-03],\n",
              "                        [-1.9961e-02, -2.2379e-02, -1.7201e-02]],\n",
              "              \n",
              "                       [[ 4.2758e-02, -1.2224e-03, -8.4603e-03],\n",
              "                        [-8.7489e-03, -3.5167e-02, -2.2546e-02],\n",
              "                        [-1.4468e-02, -2.8526e-02, -2.5278e-02]],\n",
              "              \n",
              "                       [[-2.6276e-02,  1.1593e-02, -1.6303e-02],\n",
              "                        [-5.7714e-02, -5.8350e-02, -4.8358e-02],\n",
              "                        [-4.1807e-02, -6.6231e-02, -5.7632e-02]]]], device='cuda:0')),\n",
              "             ('features.6.bias',\n",
              "              tensor([ 0.0245,  0.1212, -0.3345,  0.1115, -0.1163, -0.0581,  0.1145, -0.0961,\n",
              "                       0.0310, -0.0114, -0.0518,  0.0928, -0.0512,  0.0355, -0.1210, -0.1352,\n",
              "                      -0.0051, -0.0016, -0.0767, -0.0503, -0.1268,  0.2388, -0.0838,  0.0242,\n",
              "                      -0.0121,  0.1332,  0.2569, -0.0243,  0.0773,  0.2099,  0.0604, -0.0091,\n",
              "                       0.0705,  0.0058,  0.0136, -0.0699,  0.0962,  0.0812, -0.0900,  0.0230,\n",
              "                       0.0225,  0.2101,  0.0559,  0.1002, -0.1511,  0.0511,  0.0626,  0.1641,\n",
              "                       0.0463, -0.2988, -0.1924, -0.0333, -0.2294,  0.0519, -0.0423, -0.2317,\n",
              "                      -0.2263, -0.1044, -0.0399,  0.0232,  0.0850, -0.0044,  0.1033,  0.2262,\n",
              "                       0.1411, -0.0830, -0.0156,  0.0014,  0.0197, -0.1470, -0.0505, -0.0815,\n",
              "                       0.3807, -0.0348, -0.0432,  0.0183,  0.3063,  0.1284,  0.1381,  0.1210,\n",
              "                      -0.0332,  0.1004, -0.0805, -0.0765,  0.1026,  0.3237,  0.2120,  0.3118,\n",
              "                      -0.0086,  0.1320, -0.0704,  0.1415, -0.0624, -0.0830,  0.0334, -0.1884,\n",
              "                      -0.0159, -0.1854,  0.2024,  0.0695, -0.0145,  0.1314,  0.1937,  0.3464,\n",
              "                      -0.0404, -0.0153,  0.1210, -0.0692, -0.1515,  0.0102, -0.3134,  0.0908,\n",
              "                      -0.0815, -0.0544, -0.0899,  0.0512, -0.0274,  0.1486, -0.0629, -0.0713,\n",
              "                      -0.0348,  0.1997,  0.5552, -0.0715, -0.0095,  0.1002, -0.0100, -0.0258,\n",
              "                       0.0966,  0.0117,  0.5269,  0.2715,  0.1354,  0.2313, -0.1266,  0.0145,\n",
              "                      -0.0221, -0.1898, -0.0452, -0.0293,  0.0465, -0.0497, -0.1756, -0.3449,\n",
              "                      -0.0060, -0.2385,  0.0535,  0.3527, -0.2337, -0.1144,  0.0309, -0.0977,\n",
              "                      -0.1670, -0.0027, -0.2597,  0.0507,  0.0898, -0.0107,  0.1326,  0.0356,\n",
              "                       0.0339, -0.0073, -0.0953, -0.0306,  0.0316,  0.0526,  0.1257,  0.1593,\n",
              "                       0.0359,  0.0391,  0.3707,  0.0210, -0.0217, -0.0961,  0.1736,  0.0519,\n",
              "                       0.1526, -0.0125,  0.2510, -0.0178,  0.0225, -0.0289,  0.1204, -0.0249,\n",
              "                      -0.0416,  0.2104, -0.1344, -0.1637, -0.0251, -0.1297, -0.1678,  0.0532,\n",
              "                       0.1156, -0.1191, -0.0581, -0.1498, -0.0247,  0.1081, -0.0895,  0.1141,\n",
              "                       0.1767,  0.1576,  0.0528, -0.0284,  0.2483,  0.1458,  0.0103,  0.2185,\n",
              "                       0.3991,  0.3216, -0.0877, -0.0771,  0.0555, -0.0748,  0.2978, -0.1107,\n",
              "                       0.0215, -0.1654, -0.0840,  0.0933, -0.0165, -0.0117,  0.0355, -0.1523,\n",
              "                       0.0812, -0.0157,  0.0915, -0.1263,  0.0424,  0.0664, -0.0352, -0.0284,\n",
              "                       0.2871, -0.1768,  0.0453,  0.0798, -0.1193,  0.1280,  0.0123,  0.0048,\n",
              "                       0.0839,  0.1499, -0.0750, -0.0511, -0.1603,  0.1130,  0.0202,  0.0208,\n",
              "                       0.2498,  0.2181,  0.1185,  0.1521,  0.0993, -0.0212,  0.0181, -0.1566,\n",
              "                       0.2627, -0.0288,  0.0641,  0.0937, -0.0341, -0.1044,  0.1439,  0.0805,\n",
              "                      -0.1626,  0.1840, -0.0654,  0.0337,  0.0211, -0.1034,  0.0885,  0.0193,\n",
              "                      -0.1522,  0.2418,  0.2239, -0.0233,  0.2312, -0.1114, -0.1710, -0.0357,\n",
              "                      -0.0505,  0.0766,  0.2058, -0.0010,  0.1143, -0.2054,  0.0832,  0.2041,\n",
              "                       0.3685,  0.1221, -0.0243, -0.0738, -0.0176,  0.1286, -0.0583,  0.2910,\n",
              "                      -0.0035, -0.0008,  0.2168,  0.1553, -0.0163, -0.0975, -0.0998, -0.0202,\n",
              "                      -0.1518, -0.0598,  0.0013, -0.3411,  0.1624,  0.1746,  0.2089, -0.0626,\n",
              "                       0.0540, -0.2468,  0.1263, -0.0440, -0.0590,  0.0297,  0.1504, -0.0402,\n",
              "                       0.1127, -0.1559,  0.5073, -0.0482, -0.0746,  0.0427, -0.1377, -0.4241,\n",
              "                       0.3822,  0.0891,  0.0538,  0.0566,  0.0416,  0.0243,  0.1956,  0.1013,\n",
              "                      -0.1124, -0.0284,  0.3520,  0.0247,  0.1228, -0.1251,  0.0311, -0.1160,\n",
              "                      -0.0293,  0.0236,  0.0178,  0.0999,  0.1130,  0.0080, -0.1310,  0.0928,\n",
              "                      -0.0050,  0.0892,  0.0531,  0.0673,  0.0357,  0.0446, -0.0881,  0.1362,\n",
              "                       0.1886, -0.0361,  0.0347,  0.0389, -0.1965, -0.0848, -0.0669, -0.0112,\n",
              "                       0.1074, -0.1120, -0.0452,  0.0220,  0.1212,  0.1123, -0.0953,  0.5139,\n",
              "                      -0.0040,  0.0547,  0.0672,  0.1095,  0.0210, -0.0293,  0.0131, -0.0121],\n",
              "                     device='cuda:0')),\n",
              "             ('features.8.weight',\n",
              "              tensor([[[[-1.1822e-03, -7.5600e-03, -1.0587e-02],\n",
              "                        [-1.8615e-02,  1.6073e-03,  1.1611e-02],\n",
              "                        [-5.2794e-02,  1.5265e-03, -2.3317e-02]],\n",
              "              \n",
              "                       [[ 3.2448e-02,  1.3956e-02,  2.5927e-02],\n",
              "                        [-2.7587e-02, -7.5496e-03, -2.7965e-02],\n",
              "                        [ 2.4926e-03,  1.7511e-02,  1.3237e-02]],\n",
              "              \n",
              "                       [[-5.7801e-02, -4.5476e-02,  2.9107e-03],\n",
              "                        [-3.9326e-02, -4.5546e-02, -2.5885e-02],\n",
              "                        [-5.1264e-02, -4.9302e-02,  2.4537e-02]],\n",
              "              \n",
              "                       ...,\n",
              "              \n",
              "                       [[-1.7851e-02, -2.3801e-02,  9.4773e-03],\n",
              "                        [-4.3647e-02, -1.0196e-02, -2.0850e-02],\n",
              "                        [-4.9991e-02, -3.5765e-02, -4.6030e-02]],\n",
              "              \n",
              "                       [[-7.4667e-04, -2.6288e-03, -4.6445e-02],\n",
              "                        [-5.1284e-02, -3.2311e-02, -5.2697e-02],\n",
              "                        [-5.0427e-03, -1.1128e-02, -4.2812e-02]],\n",
              "              \n",
              "                       [[-1.8153e-02,  7.9076e-05,  1.7413e-02],\n",
              "                        [ 5.9227e-03, -1.4019e-02, -2.3228e-02],\n",
              "                        [ 2.5927e-02,  3.2585e-02,  7.6715e-03]]],\n",
              "              \n",
              "              \n",
              "                      [[[ 2.3603e-02,  2.4277e-02,  5.5458e-02],\n",
              "                        [-2.7746e-03,  2.7162e-02,  3.7928e-02],\n",
              "                        [-8.3375e-03,  3.5817e-02,  2.4967e-02]],\n",
              "              \n",
              "                       [[-2.2015e-02, -1.6596e-02, -6.4987e-03],\n",
              "                        [ 3.5752e-02,  1.8273e-02,  4.7777e-02],\n",
              "                        [-3.5503e-02,  2.7222e-02,  1.3851e-02]],\n",
              "              \n",
              "                       [[-2.3316e-03,  3.4163e-02,  1.9474e-02],\n",
              "                        [ 2.8472e-02,  8.4585e-03, -8.2239e-03],\n",
              "                        [-2.8221e-02,  1.2239e-03, -2.1072e-02]],\n",
              "              \n",
              "                       ...,\n",
              "              \n",
              "                       [[-1.7246e-02, -3.2351e-03, -1.5426e-02],\n",
              "                        [ 2.5703e-02,  3.1554e-02,  4.5342e-03],\n",
              "                        [ 1.9595e-02, -6.7153e-03,  1.2420e-02]],\n",
              "              \n",
              "                       [[ 2.5537e-02,  2.5386e-02,  2.2734e-02],\n",
              "                        [-1.0969e-02, -2.9072e-02, -1.6615e-02],\n",
              "                        [-3.3042e-02,  4.1583e-03,  3.4833e-02]],\n",
              "              \n",
              "                       [[-1.6663e-03,  2.2452e-02,  1.2611e-02],\n",
              "                        [ 1.2282e-02, -2.1691e-02,  8.1690e-03],\n",
              "                        [-4.2551e-03, -6.4076e-03, -1.2544e-02]]],\n",
              "              \n",
              "              \n",
              "                      [[[-3.4302e-02, -2.5760e-02, -1.9017e-02],\n",
              "                        [-5.9689e-03,  6.2137e-03,  1.1418e-02],\n",
              "                        [ 4.7926e-02,  1.6490e-02,  4.0262e-02]],\n",
              "              \n",
              "                       [[-5.5914e-03,  1.8620e-03,  5.4217e-03],\n",
              "                        [ 9.8774e-03,  4.0529e-03,  1.3528e-02],\n",
              "                        [-2.7525e-03,  9.2050e-03,  1.7724e-02]],\n",
              "              \n",
              "                       [[ 6.7895e-04, -2.2249e-02, -2.5464e-03],\n",
              "                        [-1.4671e-02, -2.4606e-02,  2.3514e-02],\n",
              "                        [ 2.0531e-03, -2.5714e-02,  5.6257e-02]],\n",
              "              \n",
              "                       ...,\n",
              "              \n",
              "                       [[-3.5127e-02, -1.2023e-02,  1.9172e-02],\n",
              "                        [-3.7936e-03, -8.3852e-03, -2.7818e-03],\n",
              "                        [-2.4916e-02, -1.2425e-04, -2.7155e-02]],\n",
              "              \n",
              "                       [[-1.1184e-02, -9.2550e-03, -1.2174e-02],\n",
              "                        [-7.4666e-03, -3.0278e-02, -4.2595e-02],\n",
              "                        [ 1.1516e-02,  3.9375e-02,  8.6230e-03]],\n",
              "              \n",
              "                       [[-4.3656e-02, -9.3554e-04, -3.5666e-02],\n",
              "                        [-4.6447e-04,  1.3727e-03, -1.0387e-02],\n",
              "                        [ 7.0733e-02,  4.9094e-02,  5.5633e-02]]],\n",
              "              \n",
              "              \n",
              "                      ...,\n",
              "              \n",
              "              \n",
              "                      [[[ 4.0864e-02,  3.8051e-02,  1.5472e-02],\n",
              "                        [ 8.0057e-03, -1.6408e-02, -4.6184e-02],\n",
              "                        [-1.9741e-02, -2.5501e-02, -4.6203e-02]],\n",
              "              \n",
              "                       [[ 1.3672e-02,  2.3117e-02,  2.5827e-02],\n",
              "                        [ 1.1222e-02,  2.2143e-02,  2.6846e-02],\n",
              "                        [-5.4371e-03,  1.0646e-02,  8.5828e-03]],\n",
              "              \n",
              "                       [[-2.3792e-02, -1.5843e-02, -1.5111e-02],\n",
              "                        [ 9.9976e-03,  1.0123e-02,  6.1431e-03],\n",
              "                        [ 1.4798e-02,  5.3521e-03, -6.3386e-03]],\n",
              "              \n",
              "                       ...,\n",
              "              \n",
              "                       [[ 3.2242e-02,  5.2580e-03, -1.9147e-03],\n",
              "                        [ 2.1012e-02,  6.6579e-05, -1.9141e-02],\n",
              "                        [-1.3499e-02, -3.5265e-02, -1.6803e-02]],\n",
              "              \n",
              "                       [[ 6.6051e-02,  1.2389e-02,  8.0605e-03],\n",
              "                        [ 7.0498e-02,  2.3152e-02, -3.1881e-02],\n",
              "                        [ 1.9650e-02,  3.0004e-02, -1.2823e-02]],\n",
              "              \n",
              "                       [[-4.5052e-02, -4.9903e-02, -4.1077e-02],\n",
              "                        [-1.9744e-02, -2.8510e-02, -1.9456e-02],\n",
              "                        [-1.7443e-02, -2.2654e-02, -4.6940e-02]]],\n",
              "              \n",
              "              \n",
              "                      [[[ 7.6274e-03, -2.5647e-02,  1.4182e-02],\n",
              "                        [-2.4636e-02,  3.5214e-03,  4.7235e-02],\n",
              "                        [ 2.5550e-03,  4.3892e-02,  4.3420e-02]],\n",
              "              \n",
              "                       [[ 9.5084e-03,  2.6721e-02, -2.9511e-03],\n",
              "                        [ 4.8145e-02,  3.5869e-02,  3.7861e-02],\n",
              "                        [-3.6948e-02,  4.2637e-02, -1.9251e-03]],\n",
              "              \n",
              "                       [[ 2.9397e-02,  3.7809e-02,  1.3227e-03],\n",
              "                        [ 1.6857e-03, -1.8680e-02,  1.1585e-06],\n",
              "                        [-1.7160e-02, -2.1578e-02, -2.6952e-02]],\n",
              "              \n",
              "                       ...,\n",
              "              \n",
              "                       [[-1.5025e-02, -3.4911e-02, -2.9436e-03],\n",
              "                        [-1.0172e-02, -2.3992e-02, -1.1857e-02],\n",
              "                        [-1.4674e-02,  1.4832e-02,  1.1480e-02]],\n",
              "              \n",
              "                       [[ 1.6651e-02,  2.9852e-02,  1.7356e-02],\n",
              "                        [ 3.8986e-02,  4.5689e-02,  2.7850e-03],\n",
              "                        [ 2.1297e-02, -8.8735e-03, -1.7399e-02]],\n",
              "              \n",
              "                       [[ 8.9460e-03,  2.8683e-02, -8.4077e-03],\n",
              "                        [ 2.6447e-03, -1.1850e-02, -1.6121e-02],\n",
              "                        [-1.3127e-02, -5.2485e-02,  3.3248e-03]]],\n",
              "              \n",
              "              \n",
              "                      [[[-5.3330e-04,  4.5538e-02,  2.5724e-02],\n",
              "                        [-2.4192e-04, -3.0203e-02, -9.8172e-03],\n",
              "                        [ 9.3858e-03,  2.6442e-03,  1.5246e-02]],\n",
              "              \n",
              "                       [[ 1.7379e-02,  3.3006e-02,  1.8391e-02],\n",
              "                        [-2.0451e-03,  3.2259e-02,  1.3798e-02],\n",
              "                        [-5.0081e-02, -1.4340e-02, -3.7015e-02]],\n",
              "              \n",
              "                       [[-3.7924e-02, -3.3992e-02,  1.5625e-02],\n",
              "                        [-5.5864e-02, -4.5327e-02,  2.9820e-02],\n",
              "                        [-3.3747e-02,  5.9311e-03,  6.2882e-02]],\n",
              "              \n",
              "                       ...,\n",
              "              \n",
              "                       [[ 1.4030e-02,  2.8555e-02,  5.2054e-02],\n",
              "                        [ 4.5091e-03, -4.8208e-02,  3.0213e-03],\n",
              "                        [ 1.6977e-02,  2.0663e-02,  2.5529e-03]],\n",
              "              \n",
              "                       [[-3.7251e-02, -1.8212e-02,  2.2247e-02],\n",
              "                        [-7.5750e-03, -1.7057e-02, -3.3620e-03],\n",
              "                        [-2.4330e-02,  3.6070e-03,  3.1840e-02]],\n",
              "              \n",
              "                       [[-2.9344e-02, -1.7607e-02, -2.6857e-02],\n",
              "                        [-3.4172e-02,  4.6265e-02, -1.1132e-02],\n",
              "                        [-2.4630e-04,  7.1142e-02,  6.9539e-03]]]], device='cuda:0')),\n",
              "             ('features.8.bias',\n",
              "              tensor([-6.1872e-02,  1.2618e-01,  3.0092e-01,  1.1580e-01,  2.8674e-01,\n",
              "                       1.2661e-01,  1.8297e-01, -3.1088e-02,  5.4654e-01,  1.5738e-01,\n",
              "                      -1.3637e-01, -1.7316e-01,  2.7602e-01,  2.2835e-01,  2.6880e-01,\n",
              "                       2.6338e-01,  4.4666e-02, -1.4291e+00,  6.0748e-01,  7.8965e-02,\n",
              "                       9.5647e-02,  1.5765e-01, -2.8949e-01,  1.2710e-01,  2.1121e-01,\n",
              "                       7.3548e-02, -1.7051e-04, -2.2181e-01,  1.1115e-01,  4.7934e-01,\n",
              "                       3.7953e-02, -2.7537e-01, -5.0846e-01,  2.2945e-03, -1.2259e-01,\n",
              "                       1.5265e-01, -8.9045e-03,  1.3397e-01,  3.0464e-01, -1.6707e-01,\n",
              "                       3.2679e-01,  5.4061e-01,  2.4574e-01,  6.0046e-01,  3.8772e-02,\n",
              "                       6.6333e-02,  4.9127e-01,  4.2448e-01,  6.4032e-01, -9.6423e-02,\n",
              "                      -7.8302e-02,  2.5617e-01,  7.7334e-02, -2.4033e-01,  1.7391e-01,\n",
              "                       4.1728e-01,  2.7049e-01, -4.6445e-01, -8.6330e-02,  2.7742e-01,\n",
              "                       2.6620e-01,  3.3393e-01,  5.0761e-02, -8.3259e-02, -2.1354e-01,\n",
              "                      -5.0606e-02, -4.2026e-02, -1.3966e-01, -3.0759e-01,  3.0939e-01,\n",
              "                       2.3512e-01, -3.8963e-01, -5.9151e-02,  9.1656e-01, -1.4232e-01,\n",
              "                       5.3377e-01,  2.3705e-01,  2.0726e-01,  2.3336e-01, -3.6325e-01,\n",
              "                       2.2000e-01, -5.3986e-01, -6.5316e-01,  9.8919e-02,  3.4026e-01,\n",
              "                       2.8672e-01, -1.1513e-01, -1.4683e-01,  2.6742e-01, -1.4563e-01,\n",
              "                       5.1382e-02,  3.0068e-01,  1.5255e-02,  1.7406e-01,  1.5583e-01,\n",
              "                       1.1982e-02, -2.2952e-02, -9.2375e-02, -5.5886e-02,  1.7858e-01,\n",
              "                       6.3958e-03, -1.5971e-02, -2.0066e-02,  3.1401e-02,  3.4462e-01,\n",
              "                       1.8465e-01, -1.8843e-01,  1.2061e-01,  4.5193e-02,  2.3954e-01,\n",
              "                      -1.3037e-01,  2.8741e-01, -3.4034e-01,  1.6893e-01, -1.2994e-02,\n",
              "                      -3.6670e-02, -2.1769e-01, -3.8953e-01,  6.9857e-01,  2.9023e-02,\n",
              "                       7.5724e-02,  1.6275e-01,  1.6321e-01,  4.0809e-02,  1.4680e-01,\n",
              "                      -7.0001e-02,  2.8247e-01,  3.0229e-01, -4.8220e-01,  9.5807e-02,\n",
              "                      -2.5566e-01, -3.0403e-01,  3.7415e-01,  4.3039e-02,  2.2763e-01,\n",
              "                       7.1437e-02,  1.0767e-01,  2.1337e-01,  2.8048e-01,  3.8241e-01,\n",
              "                      -1.3222e-01,  2.2527e-01,  1.8155e-02,  2.9849e-01,  5.8759e-01,\n",
              "                       4.4774e-01,  3.2448e-01,  1.5261e-01,  1.5905e-01,  2.4987e-01,\n",
              "                      -6.7257e-01,  2.4755e-01,  1.4431e-01,  9.3626e-02,  2.4004e-01,\n",
              "                      -2.5621e-01, -5.7147e-02,  2.2553e-01,  1.5834e-01, -5.3774e-02,\n",
              "                       4.6970e-01, -2.1072e-01, -3.1507e-01, -1.2373e+00,  1.2148e-01,\n",
              "                      -6.3455e-03,  3.3039e-01,  8.8682e-01, -5.0053e-02,  4.0649e-01,\n",
              "                      -1.2982e-01, -6.8060e-02,  2.7000e-01,  2.9778e-01, -5.1729e-01,\n",
              "                      -1.3945e-01,  3.3310e-02,  5.0303e-01,  2.3941e-01,  9.0746e-02,\n",
              "                       2.8751e-01, -5.4385e-02, -2.3161e-01, -6.8933e-02,  6.4362e-02,\n",
              "                      -8.3091e-02, -1.4870e-01,  1.8405e-01, -1.7387e-01, -9.8639e-02,\n",
              "                      -4.7464e-03,  8.1423e-01,  2.0069e-01,  3.0612e-01, -2.3939e-01,\n",
              "                       7.1766e-02,  1.1198e-01,  2.8129e-01,  6.6627e-02,  1.6092e-01,\n",
              "                      -6.7880e-01,  1.3629e-01,  1.7267e-01, -4.4374e-02, -2.5169e-01,\n",
              "                      -2.6589e-01,  1.6950e-01, -1.6687e-01, -8.6054e-02,  1.2500e-01,\n",
              "                       4.0603e-02,  1.0768e-01,  4.3354e-01,  1.5070e-01, -2.1199e-02,\n",
              "                       2.1894e-01,  5.8435e-02,  3.0461e-01,  8.5527e-02, -2.7998e-01,\n",
              "                       3.8435e-02, -1.9978e-01, -4.8509e-01,  2.0459e-01,  2.0282e-01,\n",
              "                       1.4001e-01,  3.2139e-02, -2.0828e-01,  7.1425e-01, -1.0896e-01,\n",
              "                       4.8286e-01,  2.9263e-01,  4.5161e-02, -7.9754e-01, -4.2719e-02,\n",
              "                       1.3324e-01, -1.9696e-01,  3.3958e-01,  4.0466e-01, -1.1263e-01,\n",
              "                       5.2255e-02,  7.8187e-02,  2.6847e-01,  3.2773e-01,  1.9162e-01,\n",
              "                      -2.0465e-02,  5.3623e-02, -2.4298e-01,  1.6146e-01,  5.7661e-01,\n",
              "                       7.6031e-02, -6.4037e-03,  3.1286e-01,  3.1995e-02,  2.7632e-01,\n",
              "                       1.4222e-01], device='cuda:0')),\n",
              "             ('features.10.weight', tensor([[[[-0.0012, -0.0095, -0.0173],\n",
              "                        [-0.0311, -0.0430, -0.0174],\n",
              "                        [-0.0143, -0.0351, -0.0521]],\n",
              "              \n",
              "                       [[ 0.0248,  0.0067, -0.0082],\n",
              "                        [ 0.0063,  0.0222,  0.0360],\n",
              "                        [-0.0232,  0.0157, -0.0238]],\n",
              "              \n",
              "                       [[-0.0014, -0.0004,  0.0136],\n",
              "                        [ 0.0068, -0.0065,  0.0098],\n",
              "                        [ 0.0060, -0.0045,  0.0144]],\n",
              "              \n",
              "                       ...,\n",
              "              \n",
              "                       [[-0.0154, -0.0204, -0.0108],\n",
              "                        [-0.0105, -0.0537, -0.0194],\n",
              "                        [ 0.0167,  0.0001, -0.0002]],\n",
              "              \n",
              "                       [[-0.0039, -0.0036, -0.0063],\n",
              "                        [-0.0202, -0.0321, -0.0057],\n",
              "                        [ 0.0005, -0.0032, -0.0061]],\n",
              "              \n",
              "                       [[ 0.0190,  0.0301,  0.0234],\n",
              "                        [ 0.0137,  0.0358,  0.0208],\n",
              "                        [ 0.0075,  0.0155,  0.0106]]],\n",
              "              \n",
              "              \n",
              "                      [[[-0.0156,  0.0048, -0.0249],\n",
              "                        [-0.0047,  0.0147, -0.0030],\n",
              "                        [ 0.0100,  0.0092, -0.0183]],\n",
              "              \n",
              "                       [[ 0.0268,  0.0140,  0.0156],\n",
              "                        [ 0.0445, -0.0052,  0.0267],\n",
              "                        [ 0.0711,  0.0402,  0.0054]],\n",
              "              \n",
              "                       [[-0.0172, -0.0476, -0.0275],\n",
              "                        [-0.0141, -0.0002,  0.0052],\n",
              "                        [-0.0024,  0.0077,  0.0146]],\n",
              "              \n",
              "                       ...,\n",
              "              \n",
              "                       [[-0.0550, -0.0703, -0.0638],\n",
              "                        [-0.0592, -0.0556, -0.0435],\n",
              "                        [-0.0563, -0.0641, -0.0608]],\n",
              "              \n",
              "                       [[-0.0263, -0.0243, -0.0063],\n",
              "                        [-0.0217, -0.0031, -0.0338],\n",
              "                        [-0.0296, -0.0370, -0.0322]],\n",
              "              \n",
              "                       [[-0.0071, -0.0251, -0.0164],\n",
              "                        [-0.0119, -0.0239, -0.0116],\n",
              "                        [-0.0261, -0.0334, -0.0078]]],\n",
              "              \n",
              "              \n",
              "                      [[[ 0.0169, -0.0273, -0.0336],\n",
              "                        [-0.0053, -0.0493, -0.0075],\n",
              "                        [-0.0132, -0.0671, -0.0143]],\n",
              "              \n",
              "                       [[ 0.0173,  0.0193, -0.0072],\n",
              "                        [-0.0014,  0.0108,  0.0252],\n",
              "                        [ 0.0296, -0.0036,  0.0144]],\n",
              "              \n",
              "                       [[ 0.0277, -0.0345,  0.0039],\n",
              "                        [-0.0064, -0.0138,  0.0220],\n",
              "                        [ 0.0263,  0.0351,  0.0342]],\n",
              "              \n",
              "                       ...,\n",
              "              \n",
              "                       [[-0.0201, -0.0348, -0.0358],\n",
              "                        [-0.0327, -0.0450, -0.0327],\n",
              "                        [-0.0568, -0.0652, -0.0511]],\n",
              "              \n",
              "                       [[-0.0213, -0.0157, -0.0170],\n",
              "                        [ 0.0006, -0.0370, -0.0088],\n",
              "                        [-0.0294, -0.0008, -0.0069]],\n",
              "              \n",
              "                       [[ 0.0046, -0.0171,  0.0013],\n",
              "                        [-0.0001,  0.0073,  0.0073],\n",
              "                        [ 0.0007,  0.0031, -0.0196]]],\n",
              "              \n",
              "              \n",
              "                      ...,\n",
              "              \n",
              "              \n",
              "                      [[[ 0.0297,  0.0023,  0.0127],\n",
              "                        [ 0.0067, -0.0504,  0.0103],\n",
              "                        [ 0.0538, -0.0020, -0.0037]],\n",
              "              \n",
              "                       [[ 0.0121, -0.0167,  0.0223],\n",
              "                        [ 0.0027, -0.0314,  0.0003],\n",
              "                        [ 0.0014,  0.0239,  0.0528]],\n",
              "              \n",
              "                       [[ 0.0043, -0.0243,  0.0217],\n",
              "                        [-0.0059,  0.0023,  0.0092],\n",
              "                        [ 0.0009, -0.0112, -0.0336]],\n",
              "              \n",
              "                       ...,\n",
              "              \n",
              "                       [[ 0.0262,  0.0158,  0.0197],\n",
              "                        [-0.0165, -0.0555, -0.0244],\n",
              "                        [ 0.0123, -0.0298, -0.0084]],\n",
              "              \n",
              "                       [[ 0.0180,  0.0257, -0.0457],\n",
              "                        [ 0.0271,  0.0404,  0.0295],\n",
              "                        [ 0.0181,  0.0550,  0.0085]],\n",
              "              \n",
              "                       [[-0.0020,  0.0051,  0.0032],\n",
              "                        [ 0.0276,  0.0460,  0.0066],\n",
              "                        [ 0.0180,  0.0182,  0.0002]]],\n",
              "              \n",
              "              \n",
              "                      [[[-0.0124, -0.0324, -0.0052],\n",
              "                        [-0.0077, -0.0330,  0.0024],\n",
              "                        [ 0.0195, -0.0264, -0.0246]],\n",
              "              \n",
              "                       [[-0.0157, -0.0267,  0.0136],\n",
              "                        [-0.0236, -0.0334, -0.0099],\n",
              "                        [-0.0207, -0.0294, -0.0079]],\n",
              "              \n",
              "                       [[-0.0202, -0.0074,  0.0061],\n",
              "                        [ 0.0070, -0.0164, -0.0292],\n",
              "                        [ 0.0030, -0.0175, -0.0050]],\n",
              "              \n",
              "                       ...,\n",
              "              \n",
              "                       [[ 0.0162, -0.0070,  0.0273],\n",
              "                        [ 0.0002, -0.0183,  0.0070],\n",
              "                        [-0.0070,  0.0001,  0.0044]],\n",
              "              \n",
              "                       [[-0.0270, -0.0332, -0.0151],\n",
              "                        [-0.0161, -0.0443, -0.0158],\n",
              "                        [-0.0216, -0.0262, -0.0025]],\n",
              "              \n",
              "                       [[-0.0402,  0.0151,  0.0004],\n",
              "                        [-0.0062, -0.0275, -0.0018],\n",
              "                        [-0.0103, -0.0191, -0.0108]]],\n",
              "              \n",
              "              \n",
              "                      [[[-0.0018, -0.0284,  0.0026],\n",
              "                        [ 0.0194,  0.0124, -0.0107],\n",
              "                        [-0.0087,  0.0150, -0.0235]],\n",
              "              \n",
              "                       [[-0.0193,  0.0037, -0.0474],\n",
              "                        [-0.0041,  0.0481, -0.0073],\n",
              "                        [ 0.0218,  0.0106,  0.0220]],\n",
              "              \n",
              "                       [[-0.0326, -0.0001, -0.0407],\n",
              "                        [-0.0237, -0.0229, -0.0206],\n",
              "                        [-0.0147, -0.0043, -0.0078]],\n",
              "              \n",
              "                       ...,\n",
              "              \n",
              "                       [[ 0.0078, -0.0288, -0.0093],\n",
              "                        [ 0.0355, -0.0110,  0.0045],\n",
              "                        [-0.0250, -0.0323, -0.0179]],\n",
              "              \n",
              "                       [[-0.0090,  0.0138, -0.0004],\n",
              "                        [ 0.0130,  0.0405,  0.0276],\n",
              "                        [ 0.0179,  0.0152, -0.0292]],\n",
              "              \n",
              "                       [[ 0.0099,  0.0047,  0.0094],\n",
              "                        [-0.0029, -0.0247,  0.0053],\n",
              "                        [ 0.0108,  0.0138,  0.0003]]]], device='cuda:0')),\n",
              "             ('features.10.bias',\n",
              "              tensor([ 3.9618e-02,  4.4128e-01,  2.0091e-01,  4.7903e-01,  1.9476e-01,\n",
              "                       4.6566e-02,  9.1296e-02, -8.8797e-02,  1.2170e-01,  1.8497e-01,\n",
              "                       4.9315e-02,  4.8337e-01,  2.4683e-01, -7.8781e-02, -4.7173e-02,\n",
              "                      -4.5624e-01,  6.7680e-01,  4.5050e-02, -3.8699e-01,  2.3217e-01,\n",
              "                       1.2035e-01,  3.2368e-01,  1.1382e+00,  2.1419e-01,  4.8128e-01,\n",
              "                       2.9775e-01,  6.0855e-02,  2.0662e-02,  1.5040e-01,  2.8545e-01,\n",
              "                       6.5666e-02,  2.7196e-01,  1.1297e-02,  3.4204e-01,  1.6311e-01,\n",
              "                       2.0415e-01,  7.6114e-02,  1.1035e-01,  2.6460e-01,  1.2316e-01,\n",
              "                      -4.4208e-02,  5.1275e-01,  1.4411e-01,  4.4424e-01,  3.3946e-01,\n",
              "                       4.0815e-01, -2.0200e-02,  1.1083e+00,  1.2126e-01,  3.1116e-01,\n",
              "                       2.3052e-01,  3.6710e-01,  3.8039e-01,  1.7780e-01,  6.3335e-01,\n",
              "                      -1.7719e-02,  2.6329e-01,  2.0438e-01,  3.4069e-01,  1.8544e-02,\n",
              "                       1.5711e-01,  2.2840e-01, -8.8983e-02,  3.1839e-02,  8.6615e-02,\n",
              "                       2.4849e-01, -7.8906e-03,  2.2261e-01,  2.4949e-01,  6.9531e-02,\n",
              "                      -6.3833e-02, -6.7441e-02, -2.0109e-02,  4.1265e-01,  4.2526e-01,\n",
              "                       3.0893e-01, -1.2109e-01,  2.3912e-02,  1.1676e-01,  1.2659e-02,\n",
              "                      -4.3780e-02,  6.3562e-01, -1.1834e-01,  6.1997e-01,  9.3147e-02,\n",
              "                      -1.4753e-02,  4.6366e-01,  6.3552e-01, -1.9229e-02,  1.3934e-01,\n",
              "                       1.2123e-02,  1.9681e-01,  1.8980e-02,  8.1570e-02,  1.6703e-02,\n",
              "                       4.6045e-02,  1.9284e-01,  2.0704e-01,  3.5168e-03,  4.5855e-01,\n",
              "                       3.8384e-01,  3.2289e-01, -9.8752e-02,  5.0890e-01,  9.1713e-03,\n",
              "                       6.0015e-01,  8.2175e-01,  4.6246e-01,  1.4349e-01,  9.9482e-03,\n",
              "                      -4.1118e-02,  3.3997e-02,  1.3355e-01,  5.5778e-01,  1.3804e-01,\n",
              "                       1.8569e-01,  3.2846e-02, -1.3027e-01,  1.6061e-01,  6.7069e-02,\n",
              "                       2.2658e-01, -8.0262e-02,  5.2787e-01,  1.2188e-01,  2.5070e-02,\n",
              "                       2.4237e+00,  5.4730e-01, -1.7756e-01,  1.0600e-01, -4.0422e-02,\n",
              "                       3.7665e-02,  2.4382e-01, -7.2902e-02,  2.0043e-02,  4.9073e-01,\n",
              "                       4.1450e-01,  4.5489e-02, -3.7854e-02,  1.4429e-01, -2.1058e-01,\n",
              "                       2.6977e-01,  6.2416e-02,  4.2697e-03,  5.9566e-01,  2.1900e-01,\n",
              "                       8.1963e-01,  4.2264e-01,  4.1501e-02,  1.7646e-01,  9.3992e-01,\n",
              "                       1.3874e-01,  3.6913e-01,  6.8511e-01, -4.7828e-02,  6.2486e-01,\n",
              "                       9.9380e-02,  3.7787e-01,  1.2164e-01,  7.3732e-01,  1.4106e-01,\n",
              "                      -1.9968e-02,  4.9511e-01,  7.0089e-02,  1.6747e-01,  6.8350e-01,\n",
              "                       3.7085e-01,  1.1883e-01,  3.4364e-03,  4.4332e-01,  1.6574e-01,\n",
              "                       1.2733e-01,  2.1741e-01,  7.0930e-01,  2.7555e-03,  1.6215e-01,\n",
              "                       1.1216e-01, -1.5863e-03,  2.6188e-01,  7.0608e-02,  2.6328e-01,\n",
              "                       1.4924e-02,  2.0966e-01,  3.4026e-01,  3.8560e-02,  9.8404e-02,\n",
              "                       2.8235e-01,  1.3182e-01, -1.0216e-01,  1.5870e-01, -1.1129e-01,\n",
              "                      -1.3258e-01,  1.4825e-01,  1.4019e-01,  1.9527e-03,  1.0835e-01,\n",
              "                      -1.6310e-01,  5.6791e-02,  1.7384e-01,  4.1675e-01,  1.1645e-01,\n",
              "                       3.5169e-01,  8.6084e-01,  2.8832e-01,  1.1832e-01, -5.0301e-02,\n",
              "                       2.9412e-02,  1.3458e-01,  1.9708e-01, -1.8959e-02,  5.4415e-01,\n",
              "                       5.3779e-01,  4.4208e-01,  5.0928e-01,  3.5710e-01,  5.2987e-01,\n",
              "                       5.1728e-01,  2.0563e-01,  3.6949e-01,  6.0485e-01,  3.0360e-03,\n",
              "                       2.3229e-02, -1.8291e-01,  6.5629e-02,  6.4845e-01,  2.4169e-01,\n",
              "                       1.3530e-01,  6.0865e-01, -4.8244e-03,  6.0496e-01,  2.9780e-01,\n",
              "                       6.3803e-01,  3.3794e-01,  9.8025e-02,  4.1445e-01,  5.2747e-01,\n",
              "                       1.8240e-01,  2.3139e-01,  3.4588e-02,  9.5725e-02,  1.6799e-01,\n",
              "                       9.5252e-02,  4.3883e-01,  3.5415e-02, -6.6938e-02,  1.4855e-01,\n",
              "                      -9.5980e-02,  4.1900e-01, -4.8361e-03,  1.8350e-01,  5.4312e-01,\n",
              "                       5.3197e-01,  3.6362e-01,  3.2749e-01,  5.6009e-01,  1.3943e-03,\n",
              "                      -6.6224e-02], device='cuda:0')),\n",
              "             ('classifier.1.weight',\n",
              "              tensor([[ 2.9720e-03,  6.1638e-03,  1.3168e-02,  ...,  3.2508e-05,\n",
              "                       -6.8264e-04, -8.6825e-03],\n",
              "                      [ 3.0158e-04,  8.3994e-04,  5.7607e-04,  ...,  5.6712e-03,\n",
              "                        3.2637e-04, -1.4999e-02],\n",
              "                      [-1.9155e-02, -1.4201e-02, -1.9443e-02,  ...,  8.7606e-04,\n",
              "                       -9.9276e-04,  1.9208e-02],\n",
              "                      ...,\n",
              "                      [-4.7371e-03,  2.2581e-03, -4.9829e-03,  ..., -8.6267e-03,\n",
              "                        5.6736e-03,  5.9110e-03],\n",
              "                      [-1.1465e-02, -4.9769e-03, -7.3708e-03,  ..., -5.0502e-03,\n",
              "                       -6.0751e-03, -9.4407e-03],\n",
              "                      [ 8.2701e-04, -1.5618e-02, -1.8802e-03,  ...,  4.8603e-03,\n",
              "                        5.2689e-03, -4.0338e-03]], device='cuda:0')),\n",
              "             ('classifier.1.bias',\n",
              "              tensor([ 0.0284,  0.0707, -0.0567,  ..., -0.0252,  0.0229,  0.0102],\n",
              "                     device='cuda:0')),\n",
              "             ('classifier.4.weight',\n",
              "              tensor([[-0.0110, -0.0007,  0.0069,  ...,  0.0037, -0.0028, -0.0086],\n",
              "                      [-0.0276,  0.0162, -0.0161,  ..., -0.0087, -0.0049, -0.0224],\n",
              "                      [-0.0116, -0.0173,  0.0099,  ...,  0.0003,  0.0077,  0.0051],\n",
              "                      ...,\n",
              "                      [-0.0024, -0.0156,  0.0067,  ...,  0.0250, -0.0040, -0.0003],\n",
              "                      [ 0.0066,  0.0098,  0.0226,  ...,  0.0061, -0.0025, -0.0046],\n",
              "                      [ 0.0106,  0.0023, -0.0007,  ..., -0.0097,  0.0014,  0.0049]],\n",
              "                     device='cuda:0')),\n",
              "             ('classifier.4.bias',\n",
              "              tensor([0.0448, 0.0995, 0.0047,  ..., 0.0261, 0.0461, 0.0892], device='cuda:0')),\n",
              "             ('classifier.6.weight',\n",
              "              tensor([[ 1.4821e-03, -1.4691e-02,  2.0334e-02,  ..., -1.3887e-02,\n",
              "                        8.5855e-03, -7.2826e-03],\n",
              "                      [ 1.6745e-03,  6.6316e-03, -1.5069e-02,  ..., -6.0478e-03,\n",
              "                        1.2858e-02,  9.7014e-03],\n",
              "                      [ 3.6213e-03, -1.2176e-03,  9.5470e-05,  ..., -1.3771e-02,\n",
              "                        1.7200e-03, -2.7923e-03],\n",
              "                      ...,\n",
              "                      [-8.9707e-03,  6.0114e-03, -5.6893e-03,  ...,  1.7801e-02,\n",
              "                       -4.3925e-03, -2.3996e-03],\n",
              "                      [-9.4950e-03,  5.0522e-03,  3.7855e-03,  ...,  2.3188e-03,\n",
              "                        4.1559e-03, -4.6852e-03],\n",
              "                      [-4.8233e-03, -8.5805e-03, -1.7924e-02,  ..., -8.0156e-03,\n",
              "                       -1.3219e-03, -1.4522e-02]], device='cuda:0')),\n",
              "             ('classifier.6.bias',\n",
              "              tensor([ 4.4893e-03,  1.1694e-02, -5.1710e-02,  3.5580e-02,  1.3089e-02,\n",
              "                      -1.3519e-02, -2.1779e-02,  5.3785e-02, -1.0284e-02, -3.2859e-02,\n",
              "                      -2.5831e-02, -3.7400e-02,  7.6336e-03, -2.8402e-02, -5.7592e-04,\n",
              "                      -4.3178e-02, -5.4794e-03, -3.7408e-02, -2.1741e-02, -4.5940e-02,\n",
              "                       2.8255e-02,  2.3246e-02,  3.7243e-03,  1.4424e-02,  1.2119e-02,\n",
              "                      -2.6993e-02,  3.9601e-03,  1.0821e-02,  9.4251e-03,  1.1793e-02,\n",
              "                      -3.3493e-02,  3.1386e-02,  2.7580e-02,  3.2381e-02, -2.7691e-02,\n",
              "                       4.5377e-03,  1.0274e-02, -1.3282e-03,  7.3863e-03,  5.6005e-02,\n",
              "                       5.5247e-02, -1.7367e-02, -3.2104e-02, -3.3380e-02, -1.6279e-02,\n",
              "                       1.3149e-02,  1.2451e-02,  1.8917e-02, -3.1934e-02, -5.2786e-02,\n",
              "                       9.7580e-03,  3.3760e-02, -1.1358e-03,  9.8564e-03,  1.6091e-02,\n",
              "                      -1.3398e-02,  5.0561e-03, -2.1016e-02,  1.9239e-02, -7.1188e-02,\n",
              "                      -7.4266e-02, -2.4124e-02, -5.6706e-03, -1.4441e-02,  3.4239e-02,\n",
              "                       2.7183e-02, -2.9306e-02, -3.3854e-02, -9.8594e-03, -1.2306e-03,\n",
              "                      -7.4981e-02,  1.6254e-02, -5.6570e-02, -1.3125e-02,  7.1914e-03,\n",
              "                       2.8220e-02,  7.2783e-03, -1.8065e-02,  5.0039e-02,  1.7869e-02,\n",
              "                      -2.2047e-03,  2.6017e-02,  2.3378e-02,  1.8086e-02, -3.1273e-03,\n",
              "                       2.8473e-03,  2.4391e-02, -4.9391e-03, -1.5873e-02, -1.6720e-03,\n",
              "                       5.0288e-02,  1.5014e-02,  1.7151e-02, -3.3989e-02, -3.8006e-02,\n",
              "                      -4.6529e-02, -2.7257e-02, -1.7515e-02, -8.4459e-02, -2.3140e-02,\n",
              "                      -1.7691e-02,  3.0393e-03, -2.7284e-02, -4.3658e-02,  2.4204e-02,\n",
              "                      -1.4390e-02,  2.0177e-02,  2.1899e-02,  9.3179e-03, -4.5371e-02,\n",
              "                      -5.2548e-02,  6.0131e-03,  4.5773e-02,  4.8310e-02,  5.6427e-02,\n",
              "                       2.7237e-02, -5.4537e-02,  1.0030e-02, -1.0592e-02,  1.0242e-01,\n",
              "                       1.2168e-02,  1.8887e-02,  3.3185e-02,  3.5307e-02, -4.4646e-02,\n",
              "                      -3.0113e-02, -2.1546e-03, -6.2340e-03, -3.5309e-02, -1.2319e-01,\n",
              "                       3.5085e-03,  9.4371e-03,  1.2875e-02,  4.9153e-03,  1.3429e-02,\n",
              "                      -7.7821e-02,  2.4905e-02,  3.7962e-02,  1.9313e-02, -1.3676e-02,\n",
              "                      -4.0927e-02, -5.1848e-02,  9.4098e-03,  2.6241e-02,  1.1553e-02,\n",
              "                       2.7255e-02,  1.3900e-02, -6.5208e-04, -7.6687e-05, -1.5769e-02,\n",
              "                      -1.7076e-03, -1.0583e-02, -4.6860e-03,  3.1466e-02,  4.5794e-02,\n",
              "                      -4.1437e-02, -1.1995e-02, -7.6173e-02, -2.5645e-02, -1.6232e-02,\n",
              "                       4.5314e-02,  5.4853e-02,  5.1097e-02,  3.7293e-02, -1.4935e-02,\n",
              "                      -2.4826e-02,  5.8524e-02,  4.8797e-02,  2.0548e-02, -1.5903e-02,\n",
              "                      -3.4518e-02,  2.1088e-02,  4.5557e-02, -9.8837e-03,  9.4169e-03,\n",
              "                      -9.1095e-02,  1.2758e-02, -2.7919e-02,  3.3778e-02, -2.7870e-04,\n",
              "                      -5.1740e-03,  3.0638e-02,  4.0590e-03,  1.7700e-02, -8.9838e-03,\n",
              "                       3.4339e-02,  9.8110e-03,  5.7989e-03,  4.8630e-03, -2.3173e-03,\n",
              "                       3.3100e-02,  1.1611e-02,  3.4551e-02,  1.1978e-02,  2.6921e-02,\n",
              "                       6.5105e-03], device='cuda:0'))])"
            ]
          },
          "metadata": {
            "tags": []
          },
          "execution_count": 17
        }
      ]
    }
  ]
}